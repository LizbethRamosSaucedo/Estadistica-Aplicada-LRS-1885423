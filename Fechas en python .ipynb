{
 "cells": [
  {
   "cell_type": "markdown",
   "id": "a30407c2",
   "metadata": {},
   "source": [
    "# Variables de tiempo/fecha en python "
   ]
  },
  {
   "cell_type": "markdown",
   "id": "b7ee74fb",
   "metadata": {},
   "source": [
    "Estadistica Aplicada\n",
    "\n",
    "\n",
    "Lizbeth Ramos Saucedo   Matricula 1885423 "
   ]
  },
  {
   "cell_type": "markdown",
   "id": "0c9fa1c8",
   "metadata": {},
   "source": [
    "## Fechas en datetime"
   ]
  },
  {
   "cell_type": "code",
   "execution_count": 1,
   "id": "c1ae270d",
   "metadata": {},
   "outputs": [],
   "source": [
    "from datetime import datetime"
   ]
  },
  {
   "cell_type": "code",
   "execution_count": 2,
   "id": "eaf96700",
   "metadata": {},
   "outputs": [],
   "source": [
    "#la fecha de hoy \n",
    "mi_year = 2023\n",
    "mi_mes=3\n",
    "mi_dia=30\n",
    "mi_hora= 14\n",
    "mi_minuto=27\n",
    "mi_segundo=30\n"
   ]
  },
  {
   "cell_type": "code",
   "execution_count": 3,
   "id": "f4178987",
   "metadata": {},
   "outputs": [],
   "source": [
    "# en python el formato de fecha es AÑO-MES-DIA\n",
    "mi_fecha = datetime(mi_year, mi_mes, mi_dia)\n"
   ]
  },
  {
   "cell_type": "code",
   "execution_count": 4,
   "id": "3497a62d",
   "metadata": {},
   "outputs": [
    {
     "data": {
      "text/plain": [
       "datetime.datetime(2023, 3, 30, 0, 0)"
      ]
     },
     "execution_count": 4,
     "metadata": {},
     "output_type": "execute_result"
    }
   ],
   "source": [
    "mi_fecha"
   ]
  },
  {
   "cell_type": "code",
   "execution_count": 5,
   "id": "00aa2614",
   "metadata": {},
   "outputs": [],
   "source": [
    "mi_fecha_hora = datetime(mi_year, mi_mes, mi_dia,mi_hora, mi_minuto, mi_segundo)"
   ]
  },
  {
   "cell_type": "code",
   "execution_count": 6,
   "id": "32efa786",
   "metadata": {},
   "outputs": [
    {
     "data": {
      "text/plain": [
       "datetime.datetime(2023, 3, 30, 14, 27, 30)"
      ]
     },
     "execution_count": 6,
     "metadata": {},
     "output_type": "execute_result"
    }
   ],
   "source": [
    "mi_fecha_hora"
   ]
  },
  {
   "cell_type": "code",
   "execution_count": 7,
   "id": "0a54184f",
   "metadata": {},
   "outputs": [
    {
     "data": {
      "text/plain": [
       "2023"
      ]
     },
     "execution_count": 7,
     "metadata": {},
     "output_type": "execute_result"
    }
   ],
   "source": [
    "## acceder al año de mi fecha \n",
    "mi_fecha.year"
   ]
  },
  {
   "cell_type": "code",
   "execution_count": 8,
   "id": "90fb2954",
   "metadata": {},
   "outputs": [
    {
     "data": {
      "text/plain": [
       "3"
      ]
     },
     "execution_count": 8,
     "metadata": {},
     "output_type": "execute_result"
    }
   ],
   "source": [
    "## acceder al mes d emi fecha \n",
    "mi_fecha.month"
   ]
  },
  {
   "cell_type": "code",
   "execution_count": 9,
   "id": "423eaafd",
   "metadata": {},
   "outputs": [
    {
     "data": {
      "text/plain": [
       "27"
      ]
     },
     "execution_count": 9,
     "metadata": {},
     "output_type": "execute_result"
    }
   ],
   "source": [
    "## acceder al minuto de mi_fecha_hora\n",
    "mi_fecha_hora.minute"
   ]
  },
  {
   "cell_type": "markdown",
   "id": "d194c505",
   "metadata": {},
   "source": [
    "## Fechas en numpy"
   ]
  },
  {
   "cell_type": "code",
   "execution_count": 10,
   "id": "14319f9e",
   "metadata": {},
   "outputs": [],
   "source": [
    "import numpy as np"
   ]
  },
  {
   "cell_type": "code",
   "execution_count": 11,
   "id": "afcf7f6a",
   "metadata": {},
   "outputs": [
    {
     "data": {
      "text/plain": [
       "array(['1998-10-23', '1998-06-10', '2022-03-29'], dtype='datetime64[D]')"
      ]
     },
     "execution_count": 11,
     "metadata": {},
     "output_type": "execute_result"
    }
   ],
   "source": [
    "np.array(['1998-10-23', '1998-06-10', '2022-03-29'], dtype='datetime64')"
   ]
  },
  {
   "cell_type": "code",
   "execution_count": 12,
   "id": "51bc076d",
   "metadata": {},
   "outputs": [
    {
     "data": {
      "text/plain": [
       "array(['1998-10-23', '1998-06-10', '2022-03-29'], dtype='datetime64[D]')"
      ]
     },
     "execution_count": 12,
     "metadata": {},
     "output_type": "execute_result"
    }
   ],
   "source": [
    "## podemos especificar que reconozca los DIAS\n",
    "np.array(['1998-10-23', '1998-06-10', '2022-03-29'], dtype='datetime64[D]') "
   ]
  },
  {
   "cell_type": "code",
   "execution_count": 13,
   "id": "a7625ae5",
   "metadata": {},
   "outputs": [
    {
     "data": {
      "text/plain": [
       "array(['1998-10-23T00', '1998-06-10T00', '2022-03-29T00'],\n",
       "      dtype='datetime64[h]')"
      ]
     },
     "execution_count": 13,
     "metadata": {},
     "output_type": "execute_result"
    }
   ],
   "source": [
    "## podemos especificar que reconozca las horas\n",
    "np.array(['1998-10-23', '1998-06-10', '2022-03-29'], dtype='datetime64[h]')"
   ]
  },
  {
   "cell_type": "code",
   "execution_count": 14,
   "id": "5cd7772b",
   "metadata": {},
   "outputs": [
    {
     "data": {
      "text/plain": [
       "array(['1998', '1998', '2022'], dtype='datetime64[Y]')"
      ]
     },
     "execution_count": 14,
     "metadata": {},
     "output_type": "execute_result"
    }
   ],
   "source": [
    "## podemos especificar que reconozca el año\n",
    "np.array(['1998-10-23', '1998-06-10', '2022-03-29'], dtype='datetime64[Y]')"
   ]
  },
  {
   "cell_type": "code",
   "execution_count": 15,
   "id": "57dfdda2",
   "metadata": {},
   "outputs": [
    {
     "data": {
      "text/plain": [
       "array(['2023-01-01', '2023-01-31', '2023-03-02', '2023-04-01',\n",
       "       '2023-05-01', '2023-05-31'], dtype='datetime64[D]')"
      ]
     },
     "execution_count": 15,
     "metadata": {},
     "output_type": "execute_result"
    }
   ],
   "source": [
    "#vamos a pedirle a numpy\n",
    "np.arange('2023-01-01','2023-06-30',30, dtype='datetime64[D]' ) \n",
    "#aqui esta dando brincos de 30 dias "
   ]
  },
  {
   "cell_type": "code",
   "execution_count": 16,
   "id": "bb070a83",
   "metadata": {},
   "outputs": [
    {
     "data": {
      "text/plain": [
       "array(['1998', '1999', '2000', '2001', '2002', '2003', '2004', '2005',\n",
       "       '2006', '2007', '2008', '2009', '2010', '2011', '2012', '2013',\n",
       "       '2014', '2015', '2016', '2017', '2018', '2019', '2020', '2021',\n",
       "       '2022'], dtype='datetime64[Y]')"
      ]
     },
     "execution_count": 16,
     "metadata": {},
     "output_type": "execute_result"
    }
   ],
   "source": [
    "np.arange('1998-10-23','2023-06-30',1, dtype='datetime64[Y]' ) "
   ]
  },
  {
   "cell_type": "markdown",
   "id": "4698a971",
   "metadata": {},
   "source": [
    "## Fechas en pandas "
   ]
  },
  {
   "cell_type": "code",
   "execution_count": 17,
   "id": "a3f0a92d",
   "metadata": {},
   "outputs": [],
   "source": [
    "import pandas as pd "
   ]
  },
  {
   "cell_type": "code",
   "execution_count": 18,
   "id": "e22275a7",
   "metadata": {},
   "outputs": [],
   "source": [
    "semana8 = pd.date_range('7/8/18', periods=7, freq='D')"
   ]
  },
  {
   "cell_type": "code",
   "execution_count": 19,
   "id": "ce126a44",
   "metadata": {},
   "outputs": [
    {
     "data": {
      "text/plain": [
       "DatetimeIndex(['2018-07-08', '2018-07-09', '2018-07-10', '2018-07-11',\n",
       "               '2018-07-12', '2018-07-13', '2018-07-14'],\n",
       "              dtype='datetime64[ns]', freq='D')"
      ]
     },
     "execution_count": 19,
     "metadata": {},
     "output_type": "execute_result"
    }
   ],
   "source": [
    "semana8"
   ]
  },
  {
   "cell_type": "code",
   "execution_count": 20,
   "id": "7956bcef",
   "metadata": {},
   "outputs": [
    {
     "data": {
      "text/plain": [
       "DatetimeIndex(['2023-04-12', '2023-03-30', '2020-01-01'], dtype='datetime64[ns]', freq=None)"
      ]
     },
     "execution_count": 20,
     "metadata": {},
     "output_type": "execute_result"
    }
   ],
   "source": [
    "#formatos de fechas que podemos usar con pandas \n",
    "pd.to_datetime(['Apr 12, 2023', '3/30/2023', '01-Jan-2020'])"
   ]
  },
  {
   "cell_type": "code",
   "execution_count": 21,
   "id": "ca7b528e",
   "metadata": {},
   "outputs": [
    {
     "data": {
      "text/plain": [
       "array(['2023-01-12', '2022-04-10'], dtype='datetime64[D]')"
      ]
     },
     "execution_count": 21,
     "metadata": {},
     "output_type": "execute_result"
    }
   ],
   "source": [
    "algunas_fechas=np.array(['2023-01-12', '2022-04-10'], dtype='datetime64[D]')\n",
    "algunas_fechas"
   ]
  },
  {
   "cell_type": "code",
   "execution_count": 22,
   "id": "668ec483",
   "metadata": {},
   "outputs": [],
   "source": [
    "#las podemos usar en pandas \n",
    "algunas_fechas=pd.to_datetime(algunas_fechas)"
   ]
  },
  {
   "cell_type": "code",
   "execution_count": 23,
   "id": "7410dd3d",
   "metadata": {},
   "outputs": [],
   "source": [
    "#importar la librerioa yahoo finance\n",
    "import yfinance as yf "
   ]
  },
  {
   "cell_type": "code",
   "execution_count": 24,
   "id": "5563829c",
   "metadata": {},
   "outputs": [
    {
     "name": "stdout",
     "output_type": "stream",
     "text": [
      "[*********************100%***********************]  1 of 1 completed\n"
     ]
    }
   ],
   "source": [
    "tipo_cambio= yf.download('MXN=X', start='2015-01-01', end='2022-12-31',)"
   ]
  },
  {
   "cell_type": "code",
   "execution_count": 25,
   "id": "0981ba4a",
   "metadata": {},
   "outputs": [],
   "source": [
    "tipo_cambio = tipo_cambio[['Adj Close']]"
   ]
  },
  {
   "cell_type": "code",
   "execution_count": 26,
   "id": "5dc44765",
   "metadata": {},
   "outputs": [
    {
     "data": {
      "text/html": [
       "<div>\n",
       "<style scoped>\n",
       "    .dataframe tbody tr th:only-of-type {\n",
       "        vertical-align: middle;\n",
       "    }\n",
       "\n",
       "    .dataframe tbody tr th {\n",
       "        vertical-align: top;\n",
       "    }\n",
       "\n",
       "    .dataframe thead th {\n",
       "        text-align: right;\n",
       "    }\n",
       "</style>\n",
       "<table border=\"1\" class=\"dataframe\">\n",
       "  <thead>\n",
       "    <tr style=\"text-align: right;\">\n",
       "      <th></th>\n",
       "      <th>Adj Close</th>\n",
       "    </tr>\n",
       "    <tr>\n",
       "      <th>Date</th>\n",
       "      <th></th>\n",
       "    </tr>\n",
       "  </thead>\n",
       "  <tbody>\n",
       "    <tr>\n",
       "      <th>2015-01-01</th>\n",
       "      <td>14.752790</td>\n",
       "    </tr>\n",
       "    <tr>\n",
       "      <th>2015-01-02</th>\n",
       "      <td>14.820430</td>\n",
       "    </tr>\n",
       "    <tr>\n",
       "      <th>2015-01-05</th>\n",
       "      <td>14.939420</td>\n",
       "    </tr>\n",
       "    <tr>\n",
       "      <th>2015-01-06</th>\n",
       "      <td>14.894670</td>\n",
       "    </tr>\n",
       "    <tr>\n",
       "      <th>2015-01-07</th>\n",
       "      <td>14.710200</td>\n",
       "    </tr>\n",
       "    <tr>\n",
       "      <th>...</th>\n",
       "      <td>...</td>\n",
       "    </tr>\n",
       "    <tr>\n",
       "      <th>2022-12-26</th>\n",
       "      <td>19.337391</td>\n",
       "    </tr>\n",
       "    <tr>\n",
       "      <th>2022-12-27</th>\n",
       "      <td>19.363070</td>\n",
       "    </tr>\n",
       "    <tr>\n",
       "      <th>2022-12-28</th>\n",
       "      <td>19.462099</td>\n",
       "    </tr>\n",
       "    <tr>\n",
       "      <th>2022-12-29</th>\n",
       "      <td>19.422300</td>\n",
       "    </tr>\n",
       "    <tr>\n",
       "      <th>2022-12-30</th>\n",
       "      <td>19.457600</td>\n",
       "    </tr>\n",
       "  </tbody>\n",
       "</table>\n",
       "<p>2086 rows × 1 columns</p>\n",
       "</div>"
      ],
      "text/plain": [
       "            Adj Close\n",
       "Date                 \n",
       "2015-01-01  14.752790\n",
       "2015-01-02  14.820430\n",
       "2015-01-05  14.939420\n",
       "2015-01-06  14.894670\n",
       "2015-01-07  14.710200\n",
       "...               ...\n",
       "2022-12-26  19.337391\n",
       "2022-12-27  19.363070\n",
       "2022-12-28  19.462099\n",
       "2022-12-29  19.422300\n",
       "2022-12-30  19.457600\n",
       "\n",
       "[2086 rows x 1 columns]"
      ]
     },
     "execution_count": 26,
     "metadata": {},
     "output_type": "execute_result"
    }
   ],
   "source": [
    "tipo_cambio"
   ]
  },
  {
   "cell_type": "code",
   "execution_count": 27,
   "id": "766c92ae",
   "metadata": {},
   "outputs": [
    {
     "data": {
      "image/png": "[encoded data removed]",
      "text/plain": [
       "<Figure size 432x288 with 1 Axes>"
      ]
     },
     "metadata": {
      "needs_background": "light"
     },
     "output_type": "display_data"
    }
   ],
   "source": [
    "#graficar \n",
    "tipo_cambio.plot();"
   ]
  },
  {
   "cell_type": "code",
   "execution_count": 28,
   "id": "83b19c0b",
   "metadata": {},
   "outputs": [
    {
     "data": {
      "text/plain": [
       "DatetimeIndex(['2015-01-01', '2015-01-02', '2015-01-05', '2015-01-06',\n",
       "               '2015-01-07', '2015-01-08', '2015-01-09', '2015-01-12',\n",
       "               '2015-01-13', '2015-01-14',\n",
       "               ...\n",
       "               '2022-12-19', '2022-12-20', '2022-12-21', '2022-12-22',\n",
       "               '2022-12-23', '2022-12-26', '2022-12-27', '2022-12-28',\n",
       "               '2022-12-29', '2022-12-30'],\n",
       "              dtype='datetime64[ns]', name='Date', length=2086, freq=None)"
      ]
     },
     "execution_count": 28,
     "metadata": {},
     "output_type": "execute_result"
    }
   ],
   "source": [
    "tipo_cambio.index"
   ]
  },
  {
   "cell_type": "code",
   "execution_count": 29,
   "id": "3e6e063a",
   "metadata": {},
   "outputs": [
    {
     "data": {
      "text/html": [
       "<div>\n",
       "<style scoped>\n",
       "    .dataframe tbody tr th:only-of-type {\n",
       "        vertical-align: middle;\n",
       "    }\n",
       "\n",
       "    .dataframe tbody tr th {\n",
       "        vertical-align: top;\n",
       "    }\n",
       "\n",
       "    .dataframe thead th {\n",
       "        text-align: right;\n",
       "    }\n",
       "</style>\n",
       "<table border=\"1\" class=\"dataframe\">\n",
       "  <thead>\n",
       "    <tr style=\"text-align: right;\">\n",
       "      <th></th>\n",
       "      <th>Adj Close</th>\n",
       "    </tr>\n",
       "    <tr>\n",
       "      <th>Date</th>\n",
       "      <th></th>\n",
       "    </tr>\n",
       "  </thead>\n",
       "  <tbody>\n",
       "    <tr>\n",
       "      <th>2015-01-01</th>\n",
       "      <td>15.876770</td>\n",
       "    </tr>\n",
       "    <tr>\n",
       "      <th>2016-01-01</th>\n",
       "      <td>18.682247</td>\n",
       "    </tr>\n",
       "    <tr>\n",
       "      <th>2017-01-01</th>\n",
       "      <td>18.909394</td>\n",
       "    </tr>\n",
       "    <tr>\n",
       "      <th>2018-01-01</th>\n",
       "      <td>19.220598</td>\n",
       "    </tr>\n",
       "    <tr>\n",
       "      <th>2019-01-01</th>\n",
       "      <td>19.246592</td>\n",
       "    </tr>\n",
       "    <tr>\n",
       "      <th>2020-01-01</th>\n",
       "      <td>21.482632</td>\n",
       "    </tr>\n",
       "    <tr>\n",
       "      <th>2021-01-01</th>\n",
       "      <td>20.277665</td>\n",
       "    </tr>\n",
       "    <tr>\n",
       "      <th>2022-01-01</th>\n",
       "      <td>20.106256</td>\n",
       "    </tr>\n",
       "  </tbody>\n",
       "</table>\n",
       "</div>"
      ],
      "text/plain": [
       "            Adj Close\n",
       "Date                 \n",
       "2015-01-01  15.876770\n",
       "2016-01-01  18.682247\n",
       "2017-01-01  18.909394\n",
       "2018-01-01  19.220598\n",
       "2019-01-01  19.246592\n",
       "2020-01-01  21.482632\n",
       "2021-01-01  20.277665\n",
       "2022-01-01  20.106256"
      ]
     },
     "execution_count": 29,
     "metadata": {},
     "output_type": "execute_result"
    }
   ],
   "source": [
    "#al tipo de cambio diario le vamos a cambiar la frecuencia\n",
    "# tipo de cambio mensual, promedio del mes \n",
    "tipo_cambio_anual=tipo_cambio.resample(rule='AS').mean()\n",
    "tipo_cambio_anual"
   ]
  },
  {
   "cell_type": "code",
   "execution_count": 30,
   "id": "107e1d03",
   "metadata": {},
   "outputs": [
    {
     "data": {
      "text/html": [
       "<div>\n",
       "<style scoped>\n",
       "    .dataframe tbody tr th:only-of-type {\n",
       "        vertical-align: middle;\n",
       "    }\n",
       "\n",
       "    .dataframe tbody tr th {\n",
       "        vertical-align: top;\n",
       "    }\n",
       "\n",
       "    .dataframe thead th {\n",
       "        text-align: right;\n",
       "    }\n",
       "</style>\n",
       "<table border=\"1\" class=\"dataframe\">\n",
       "  <thead>\n",
       "    <tr style=\"text-align: right;\">\n",
       "      <th></th>\n",
       "      <th>Adj Close</th>\n",
       "    </tr>\n",
       "    <tr>\n",
       "      <th>Date</th>\n",
       "      <th></th>\n",
       "    </tr>\n",
       "  </thead>\n",
       "  <tbody>\n",
       "    <tr>\n",
       "      <th>2015-01-01</th>\n",
       "      <td>14.694401</td>\n",
       "    </tr>\n",
       "    <tr>\n",
       "      <th>2015-02-01</th>\n",
       "      <td>14.911954</td>\n",
       "    </tr>\n",
       "    <tr>\n",
       "      <th>2015-03-01</th>\n",
       "      <td>15.234560</td>\n",
       "    </tr>\n",
       "    <tr>\n",
       "      <th>2015-04-01</th>\n",
       "      <td>15.210350</td>\n",
       "    </tr>\n",
       "    <tr>\n",
       "      <th>2015-05-01</th>\n",
       "      <td>15.267061</td>\n",
       "    </tr>\n",
       "    <tr>\n",
       "      <th>...</th>\n",
       "      <td>...</td>\n",
       "    </tr>\n",
       "    <tr>\n",
       "      <th>2022-08-01</th>\n",
       "      <td>20.139255</td>\n",
       "    </tr>\n",
       "    <tr>\n",
       "      <th>2022-09-01</th>\n",
       "      <td>20.055597</td>\n",
       "    </tr>\n",
       "    <tr>\n",
       "      <th>2022-10-01</th>\n",
       "      <td>19.985488</td>\n",
       "    </tr>\n",
       "    <tr>\n",
       "      <th>2022-11-01</th>\n",
       "      <td>19.464608</td>\n",
       "    </tr>\n",
       "    <tr>\n",
       "      <th>2022-12-01</th>\n",
       "      <td>19.576167</td>\n",
       "    </tr>\n",
       "  </tbody>\n",
       "</table>\n",
       "<p>96 rows × 1 columns</p>\n",
       "</div>"
      ],
      "text/plain": [
       "            Adj Close\n",
       "Date                 \n",
       "2015-01-01  14.694401\n",
       "2015-02-01  14.911954\n",
       "2015-03-01  15.234560\n",
       "2015-04-01  15.210350\n",
       "2015-05-01  15.267061\n",
       "...               ...\n",
       "2022-08-01  20.139255\n",
       "2022-09-01  20.055597\n",
       "2022-10-01  19.985488\n",
       "2022-11-01  19.464608\n",
       "2022-12-01  19.576167\n",
       "\n",
       "[96 rows x 1 columns]"
      ]
     },
     "execution_count": 30,
     "metadata": {},
     "output_type": "execute_result"
    }
   ],
   "source": [
    "#tipo de cambio mensual \n",
    "tipo_cambio_mensual =tipo_cambio.resample(rule='MS').mean()\n",
    "tipo_cambio_mensual"
   ]
  },
  {
   "cell_type": "code",
   "execution_count": 31,
   "id": "b9652f67",
   "metadata": {},
   "outputs": [
    {
     "data": {
      "text/plain": [
       "DatetimeIndex(['2015-01-01', '2015-01-02', '2015-01-05', '2015-01-06',\n",
       "               '2015-01-07', '2015-01-08', '2015-01-09', '2015-01-12',\n",
       "               '2015-01-13', '2015-01-14',\n",
       "               ...\n",
       "               '2022-12-19', '2022-12-20', '2022-12-21', '2022-12-22',\n",
       "               '2022-12-23', '2022-12-26', '2022-12-27', '2022-12-28',\n",
       "               '2022-12-29', '2022-12-30'],\n",
       "              dtype='datetime64[ns]', name='Date', length=2086, freq=None)"
      ]
     },
     "execution_count": 31,
     "metadata": {},
     "output_type": "execute_result"
    }
   ],
   "source": [
    "tipo_cambio.index"
   ]
  },
  {
   "cell_type": "code",
   "execution_count": 32,
   "id": "3d669bfe",
   "metadata": {},
   "outputs": [],
   "source": [
    "#dias habiles=bussiness 'B'\n",
    "tipo_cambio = tipo_cambio.asfreq('B')"
   ]
  },
  {
   "cell_type": "code",
   "execution_count": 33,
   "id": "5e088aec",
   "metadata": {},
   "outputs": [
    {
     "data": {
      "text/plain": [
       "DatetimeIndex(['2015-01-01', '2015-01-02', '2015-01-05', '2015-01-06',\n",
       "               '2015-01-07', '2015-01-08', '2015-01-09', '2015-01-12',\n",
       "               '2015-01-13', '2015-01-14',\n",
       "               ...\n",
       "               '2022-12-19', '2022-12-20', '2022-12-21', '2022-12-22',\n",
       "               '2022-12-23', '2022-12-26', '2022-12-27', '2022-12-28',\n",
       "               '2022-12-29', '2022-12-30'],\n",
       "              dtype='datetime64[ns]', name='Date', length=2087, freq='B')"
      ]
     },
     "execution_count": 33,
     "metadata": {},
     "output_type": "execute_result"
    }
   ],
   "source": [
    "tipo_cambio.index"
   ]
  },
  {
   "cell_type": "code",
   "execution_count": 34,
   "id": "7d4ca5bd",
   "metadata": {},
   "outputs": [
    {
     "data": {
      "text/html": [
       "<div>\n",
       "<style scoped>\n",
       "    .dataframe tbody tr th:only-of-type {\n",
       "        vertical-align: middle;\n",
       "    }\n",
       "\n",
       "    .dataframe tbody tr th {\n",
       "        vertical-align: top;\n",
       "    }\n",
       "\n",
       "    .dataframe thead th {\n",
       "        text-align: right;\n",
       "    }\n",
       "</style>\n",
       "<table border=\"1\" class=\"dataframe\">\n",
       "  <thead>\n",
       "    <tr style=\"text-align: right;\">\n",
       "      <th></th>\n",
       "      <th>Adj Close</th>\n",
       "    </tr>\n",
       "    <tr>\n",
       "      <th>Date</th>\n",
       "      <th></th>\n",
       "    </tr>\n",
       "  </thead>\n",
       "  <tbody>\n",
       "    <tr>\n",
       "      <th>2015-01-01</th>\n",
       "      <td>14.961770</td>\n",
       "    </tr>\n",
       "    <tr>\n",
       "      <th>2015-02-01</th>\n",
       "      <td>15.092740</td>\n",
       "    </tr>\n",
       "    <tr>\n",
       "      <th>2015-03-01</th>\n",
       "      <td>15.614370</td>\n",
       "    </tr>\n",
       "    <tr>\n",
       "      <th>2015-04-01</th>\n",
       "      <td>15.459100</td>\n",
       "    </tr>\n",
       "    <tr>\n",
       "      <th>2015-05-01</th>\n",
       "      <td>15.548850</td>\n",
       "    </tr>\n",
       "    <tr>\n",
       "      <th>...</th>\n",
       "      <td>...</td>\n",
       "    </tr>\n",
       "    <tr>\n",
       "      <th>2022-08-01</th>\n",
       "      <td>20.810909</td>\n",
       "    </tr>\n",
       "    <tr>\n",
       "      <th>2022-09-01</th>\n",
       "      <td>20.370741</td>\n",
       "    </tr>\n",
       "    <tr>\n",
       "      <th>2022-10-01</th>\n",
       "      <td>20.127411</td>\n",
       "    </tr>\n",
       "    <tr>\n",
       "      <th>2022-11-01</th>\n",
       "      <td>19.793200</td>\n",
       "    </tr>\n",
       "    <tr>\n",
       "      <th>2022-12-01</th>\n",
       "      <td>19.847300</td>\n",
       "    </tr>\n",
       "  </tbody>\n",
       "</table>\n",
       "<p>96 rows × 1 columns</p>\n",
       "</div>"
      ],
      "text/plain": [
       "            Adj Close\n",
       "Date                 \n",
       "2015-01-01  14.961770\n",
       "2015-02-01  15.092740\n",
       "2015-03-01  15.614370\n",
       "2015-04-01  15.459100\n",
       "2015-05-01  15.548850\n",
       "...               ...\n",
       "2022-08-01  20.810909\n",
       "2022-09-01  20.370741\n",
       "2022-10-01  20.127411\n",
       "2022-11-01  19.793200\n",
       "2022-12-01  19.847300\n",
       "\n",
       "[96 rows x 1 columns]"
      ]
     },
     "execution_count": 34,
     "metadata": {},
     "output_type": "execute_result"
    }
   ],
   "source": [
    "# VALOR MAXIMO DEL TIPO DE CAMBIO DE  CADA MES \n",
    "tipo_cambio.resample(rule='MS').max()"
   ]
  },
  {
   "cell_type": "code",
   "execution_count": 37,
   "id": "76c0672a",
   "metadata": {},
   "outputs": [
    {
     "data": {
      "image/png": "[encoded data removed]",
      "text/plain": [
       "<Figure size 432x288 with 1 Axes>"
      ]
     },
     "metadata": {
      "needs_background": "light"
     },
     "output_type": "display_data"
    }
   ],
   "source": [
    "#VALOR MINIMO EN INICIO DE CADA AÑO 'AS'\n",
    "tipo_cambio.resample(rule='AS').min().plot();"
   ]
  },
  {
   "cell_type": "code",
   "execution_count": 38,
   "id": "0a628fb5",
   "metadata": {},
   "outputs": [
    {
     "data": {
      "text/html": [
       "<div>\n",
       "<style scoped>\n",
       "    .dataframe tbody tr th:only-of-type {\n",
       "        vertical-align: middle;\n",
       "    }\n",
       "\n",
       "    .dataframe tbody tr th {\n",
       "        vertical-align: top;\n",
       "    }\n",
       "\n",
       "    .dataframe thead th {\n",
       "        text-align: right;\n",
       "    }\n",
       "</style>\n",
       "<table border=\"1\" class=\"dataframe\">\n",
       "  <thead>\n",
       "    <tr style=\"text-align: right;\">\n",
       "      <th></th>\n",
       "      <th>Adj Close</th>\n",
       "    </tr>\n",
       "    <tr>\n",
       "      <th>Date</th>\n",
       "      <th></th>\n",
       "    </tr>\n",
       "  </thead>\n",
       "  <tbody>\n",
       "    <tr>\n",
       "      <th>2015-01-01</th>\n",
       "      <td>14.75279</td>\n",
       "    </tr>\n",
       "    <tr>\n",
       "      <th>2015-01-02</th>\n",
       "      <td>14.82043</td>\n",
       "    </tr>\n",
       "    <tr>\n",
       "      <th>2015-01-05</th>\n",
       "      <td>14.93942</td>\n",
       "    </tr>\n",
       "    <tr>\n",
       "      <th>2015-01-06</th>\n",
       "      <td>14.89467</td>\n",
       "    </tr>\n",
       "    <tr>\n",
       "      <th>2015-01-07</th>\n",
       "      <td>14.71020</td>\n",
       "    </tr>\n",
       "  </tbody>\n",
       "</table>\n",
       "</div>"
      ],
      "text/plain": [
       "            Adj Close\n",
       "Date                 \n",
       "2015-01-01   14.75279\n",
       "2015-01-02   14.82043\n",
       "2015-01-05   14.93942\n",
       "2015-01-06   14.89467\n",
       "2015-01-07   14.71020"
      ]
     },
     "execution_count": 38,
     "metadata": {},
     "output_type": "execute_result"
    }
   ],
   "source": [
    "## desplazamiento (shif)\n",
    "tipo_cambio.head()"
   ]
  },
  {
   "cell_type": "code",
   "execution_count": 40,
   "id": "aee4ce44",
   "metadata": {},
   "outputs": [
    {
     "data": {
      "text/html": [
       "<div>\n",
       "<style scoped>\n",
       "    .dataframe tbody tr th:only-of-type {\n",
       "        vertical-align: middle;\n",
       "    }\n",
       "\n",
       "    .dataframe tbody tr th {\n",
       "        vertical-align: top;\n",
       "    }\n",
       "\n",
       "    .dataframe thead th {\n",
       "        text-align: right;\n",
       "    }\n",
       "</style>\n",
       "<table border=\"1\" class=\"dataframe\">\n",
       "  <thead>\n",
       "    <tr style=\"text-align: right;\">\n",
       "      <th></th>\n",
       "      <th>Adj Close</th>\n",
       "    </tr>\n",
       "    <tr>\n",
       "      <th>Date</th>\n",
       "      <th></th>\n",
       "    </tr>\n",
       "  </thead>\n",
       "  <tbody>\n",
       "    <tr>\n",
       "      <th>2015-01-01</th>\n",
       "      <td>14.82043</td>\n",
       "    </tr>\n",
       "    <tr>\n",
       "      <th>2015-01-02</th>\n",
       "      <td>14.93942</td>\n",
       "    </tr>\n",
       "    <tr>\n",
       "      <th>2015-01-05</th>\n",
       "      <td>14.89467</td>\n",
       "    </tr>\n",
       "    <tr>\n",
       "      <th>2015-01-06</th>\n",
       "      <td>14.71020</td>\n",
       "    </tr>\n",
       "    <tr>\n",
       "      <th>2015-01-07</th>\n",
       "      <td>14.66170</td>\n",
       "    </tr>\n",
       "  </tbody>\n",
       "</table>\n",
       "</div>"
      ],
      "text/plain": [
       "            Adj Close\n",
       "Date                 \n",
       "2015-01-01   14.82043\n",
       "2015-01-02   14.93942\n",
       "2015-01-05   14.89467\n",
       "2015-01-06   14.71020\n",
       "2015-01-07   14.66170"
      ]
     },
     "execution_count": 40,
     "metadata": {},
     "output_type": "execute_result"
    }
   ],
   "source": [
    "#recorre todos (n) periodos \n",
    "#si ponemos -1 nos lo manda atras un periodo\n",
    "tipo_cambio.shift(-1).head()"
   ]
  },
  {
   "cell_type": "code",
   "execution_count": null,
   "id": "16d90e2c",
   "metadata": {},
   "outputs": [],
   "source": []
  }
 ],
 "metadata": {
  "kernelspec": {
   "display_name": "Python 3 (ipykernel)",
   "language": "python",
   "name": "python3"
  },
  "language_info": {
   "codemirror_mode": {
    "name": "ipython",
    "version": 3
   },
   "file_extension": ".py",
   "mimetype": "text/x-python",
   "name": "python",
   "nbconvert_exporter": "python",
   "pygments_lexer": "ipython3",
   "version": "3.9.12"
  }
 },
 "nbformat": 4,
 "nbformat_minor": 5
}
