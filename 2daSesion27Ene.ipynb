{
 "cells": [
  {
   "cell_type": "markdown",
   "id": "f5c04aae-d91a-4e25-aa68-5d0e0d0c8d10",
   "metadata": {
    "tags": []
   },
   "source": [
    "# Estsdistica aplicada\n",
    "## Lizbeth Ramos Saucedo \n",
    "### Segunda sesion \n",
    "#### 27 de enero 2023 "
   ]
  },
  {
   "cell_type": "code",
   "execution_count": 3,
   "id": "d4ba0dad-6eba-44b2-9700-60be1654ace2",
   "metadata": {},
   "outputs": [
    {
     "data": {
      "text/plain": [
       "True"
      ]
     },
     "execution_count": 3,
     "metadata": {},
     "output_type": "execute_result"
    }
   ],
   "source": [
    "7 > 5"
   ]
  },
  {
   "cell_type": "code",
   "execution_count": 4,
   "id": "83e38f1c-c11b-4c06-820d-57c5f557b344",
   "metadata": {},
   "outputs": [
    {
     "data": {
      "text/plain": [
       "False"
      ]
     },
     "execution_count": 4,
     "metadata": {},
     "output_type": "execute_result"
    }
   ],
   "source": [
    "7 > 10"
   ]
  },
  {
   "cell_type": "code",
   "execution_count": 5,
   "id": "183cd5f7-b464-4d27-ab4e-128bd79d5a5d",
   "metadata": {},
   "outputs": [
    {
     "data": {
      "text/plain": [
       "False"
      ]
     },
     "execution_count": 5,
     "metadata": {},
     "output_type": "execute_result"
    }
   ],
   "source": [
    "7>5 & 7>10"
   ]
  },
  {
   "cell_type": "code",
   "execution_count": 7,
   "id": "115ec5e1-15e1-417e-b1ab-aeef3606d186",
   "metadata": {},
   "outputs": [
    {
     "data": {
      "text/plain": [
       "12"
      ]
     },
     "execution_count": 7,
     "metadata": {},
     "output_type": "execute_result"
    }
   ],
   "source": [
    "7+5"
   ]
  },
  {
   "cell_type": "code",
   "execution_count": 8,
   "id": "cd69e583-e24e-41ac-b39c-ecefb5f7a767",
   "metadata": {},
   "outputs": [
    {
     "data": {
      "text/plain": [
       "7"
      ]
     },
     "execution_count": 8,
     "metadata": {},
     "output_type": "execute_result"
    }
   ],
   "source": [
    "10-3"
   ]
  },
  {
   "cell_type": "code",
   "execution_count": 9,
   "id": "af497ca2-292f-4c6c-bcf5-4f6fa6227445",
   "metadata": {},
   "outputs": [
    {
     "data": {
      "text/plain": [
       "10"
      ]
     },
     "execution_count": 9,
     "metadata": {},
     "output_type": "execute_result"
    }
   ],
   "source": [
    "5*2"
   ]
  },
  {
   "cell_type": "code",
   "execution_count": 10,
   "id": "235130e3-2006-4a8f-af05-6456a907884b",
   "metadata": {},
   "outputs": [
    {
     "data": {
      "text/plain": [
       "5.0"
      ]
     },
     "execution_count": 10,
     "metadata": {},
     "output_type": "execute_result"
    }
   ],
   "source": [
    "10/2"
   ]
  },
  {
   "cell_type": "code",
   "execution_count": 11,
   "id": "4c1bd6ef-3a79-43e2-9584-3d1070f5bfa7",
   "metadata": {},
   "outputs": [
    {
     "data": {
      "text/plain": [
       "9"
      ]
     },
     "execution_count": 11,
     "metadata": {},
     "output_type": "execute_result"
    }
   ],
   "source": [
    "3**2"
   ]
  },
  {
   "cell_type": "code",
   "execution_count": 13,
   "id": "cf717a11-c56f-46e8-8fd5-017a7b6f2c48",
   "metadata": {},
   "outputs": [
    {
     "data": {
      "text/plain": [
       "9"
      ]
     },
     "execution_count": 13,
     "metadata": {},
     "output_type": "execute_result"
    }
   ],
   "source": [
    "pow(3, 2)\n"
   ]
  },
  {
   "cell_type": "code",
   "execution_count": 16,
   "id": "1431dc90-4838-4ce4-a17f-4fdabbb16e1a",
   "metadata": {},
   "outputs": [],
   "source": [
    "alumno1 = ['Juan', 'Perez', 23] "
   ]
  },
  {
   "cell_type": "code",
   "execution_count": 17,
   "id": "432af479-9457-4ec7-86aa-e19cf67a4d98",
   "metadata": {},
   "outputs": [
    {
     "data": {
      "text/plain": [
       "list"
      ]
     },
     "execution_count": 17,
     "metadata": {},
     "output_type": "execute_result"
    }
   ],
   "source": [
    "type(alumno1)"
   ]
  },
  {
   "cell_type": "code",
   "execution_count": 18,
   "id": "ccb5300b-a048-4142-a092-dfef693e08ca",
   "metadata": {},
   "outputs": [],
   "source": [
    "estadistica_g4 = ['Juan','Raul','Jimena', 'Alejandra']"
   ]
  },
  {
   "cell_type": "code",
   "execution_count": 19,
   "id": "69103e4c-565b-45fa-b008-a08d7e4a1c99",
   "metadata": {},
   "outputs": [
    {
     "data": {
      "text/plain": [
       "['Juan', 'Raul', 'Jimena', 'Alejandra']"
      ]
     },
     "execution_count": 19,
     "metadata": {},
     "output_type": "execute_result"
    }
   ],
   "source": [
    "estadistica_g4"
   ]
  },
  {
   "cell_type": "code",
   "execution_count": 20,
   "id": "a6909fe8-eb64-492c-b292-a309d97c8c76",
   "metadata": {},
   "outputs": [
    {
     "data": {
      "text/plain": [
       "'Jimena'"
      ]
     },
     "execution_count": 20,
     "metadata": {},
     "output_type": "execute_result"
    }
   ],
   "source": [
    "estadistica_g4[2]"
   ]
  },
  {
   "cell_type": "code",
   "execution_count": 21,
   "id": "3ea4ce11-1994-49c1-9a10-d8538c5a09b5",
   "metadata": {},
   "outputs": [
    {
     "data": {
      "text/plain": [
       "'Juan'"
      ]
     },
     "execution_count": 21,
     "metadata": {},
     "output_type": "execute_result"
    }
   ],
   "source": [
    "estadistica_g4[0]"
   ]
  },
  {
   "cell_type": "code",
   "execution_count": 22,
   "id": "7f380f96-4fd9-40a9-81d5-ae91921f02d4",
   "metadata": {},
   "outputs": [
    {
     "data": {
      "text/plain": [
       "('Juan', 'Jimena')"
      ]
     },
     "execution_count": 22,
     "metadata": {},
     "output_type": "execute_result"
    }
   ],
   "source": [
    "estadistica_g4[0], estadistica_g4[2]"
   ]
  },
  {
   "cell_type": "code",
   "execution_count": 23,
   "id": "3f4dff93-645c-46f2-947c-347fb86ab94c",
   "metadata": {},
   "outputs": [
    {
     "data": {
      "text/plain": [
       "['Juan', 'Raul', 'Jimena']"
      ]
     },
     "execution_count": 23,
     "metadata": {},
     "output_type": "execute_result"
    }
   ],
   "source": [
    "estadistica_g4[0:3]"
   ]
  },
  {
   "cell_type": "code",
   "execution_count": 24,
   "id": "e6778868-5ed8-4bd9-ab77-fdacc1a83fcf",
   "metadata": {},
   "outputs": [
    {
     "data": {
      "text/plain": [
       "['Juan', 'Raul', 'Jimena', 'Alejandra']"
      ]
     },
     "execution_count": 24,
     "metadata": {},
     "output_type": "execute_result"
    }
   ],
   "source": [
    "estadistica_g4[:]"
   ]
  },
  {
   "cell_type": "code",
   "execution_count": 29,
   "id": "ce58bc56-5813-4910-818d-2c9b1ad4b240",
   "metadata": {},
   "outputs": [],
   "source": [
    "estadistica_g4.append('Jaime') ##apend agrega un elemento a la lista "
   ]
  },
  {
   "cell_type": "code",
   "execution_count": 28,
   "id": "94671c39-338f-4a79-8496-82e5407c965a",
   "metadata": {},
   "outputs": [
    {
     "data": {
      "text/plain": [
       "['Juan', 'Raul', 'Jimena', 'Alejandra', 'Jaime']"
      ]
     },
     "execution_count": 28,
     "metadata": {},
     "output_type": "execute_result"
    }
   ],
   "source": [
    "estadistica_g4"
   ]
  },
  {
   "cell_type": "code",
   "execution_count": 30,
   "id": "92303bfe-2383-4a3d-bb48-a129c69af658",
   "metadata": {},
   "outputs": [],
   "source": [
    "estadistica_g4.remove('Jimena')"
   ]
  },
  {
   "cell_type": "code",
   "execution_count": 31,
   "id": "016eca18-7ffd-4e5d-a3c1-3c05c6f4641e",
   "metadata": {},
   "outputs": [
    {
     "data": {
      "text/plain": [
       "['Juan', 'Raul', 'Alejandra', 'Jaime', 'Jaime']"
      ]
     },
     "execution_count": 31,
     "metadata": {},
     "output_type": "execute_result"
    }
   ],
   "source": [
    "estadistica_g4"
   ]
  },
  {
   "cell_type": "code",
   "execution_count": 32,
   "id": "55565cae-8e46-41a4-b1b2-c28574349116",
   "metadata": {},
   "outputs": [],
   "source": [
    "estadistica_g4.remove('Jaime')"
   ]
  },
  {
   "cell_type": "code",
   "execution_count": 33,
   "id": "7ab59053-019e-416a-8eb8-a19ee82bfdb3",
   "metadata": {},
   "outputs": [
    {
     "data": {
      "text/plain": [
       "['Juan', 'Raul', 'Alejandra', 'Jaime']"
      ]
     },
     "execution_count": 33,
     "metadata": {},
     "output_type": "execute_result"
    }
   ],
   "source": [
    "estadistica_g4"
   ]
  },
  {
   "cell_type": "code",
   "execution_count": 34,
   "id": "4efa5b5b-8105-4ace-9db2-d3ca3848f885",
   "metadata": {},
   "outputs": [
    {
     "data": {
      "text/plain": [
       "4"
      ]
     },
     "execution_count": 34,
     "metadata": {},
     "output_type": "execute_result"
    }
   ],
   "source": [
    "len(estadistica_g4)"
   ]
  },
  {
   "cell_type": "code",
   "execution_count": 35,
   "id": "af96ba85-caef-4b0e-a8cd-094d12e0be90",
   "metadata": {},
   "outputs": [],
   "source": [
    "conteo_de_lista=len(estadistica_g4)"
   ]
  },
  {
   "cell_type": "code",
   "execution_count": 36,
   "id": "2401f25e-0cb7-439c-8734-6118b90a3f81",
   "metadata": {},
   "outputs": [
    {
     "data": {
      "text/plain": [
       "4"
      ]
     },
     "execution_count": 36,
     "metadata": {},
     "output_type": "execute_result"
    }
   ],
   "source": [
    "conteo_de_lista"
   ]
  },
  {
   "cell_type": "code",
   "execution_count": 38,
   "id": "ee1b6559-6a3a-4193-86c9-242f772fecd7",
   "metadata": {},
   "outputs": [
    {
     "name": "stdout",
     "output_type": "stream",
     "text": [
      "Note: you may need to restart the kernel to use updated packages.\n",
      "Requirement already satisfied: yfinance in c:\\users\\lenovo\\anaconda3\\lib\\site-packages (0.1.74)\n",
      "Requirement already satisfied: numpy>=1.15 in c:\\users\\lenovo\\anaconda3\\lib\\site-packages (from yfinance) (1.21.5)\n",
      "Requirement already satisfied: multitasking>=0.0.7 in c:\\users\\lenovo\\anaconda3\\lib\\site-packages (from yfinance) (0.0.11)\n",
      "Requirement already satisfied: requests>=2.26 in c:\\users\\lenovo\\anaconda3\\lib\\site-packages (from yfinance) (2.27.1)\n",
      "Requirement already satisfied: lxml>=4.5.1 in c:\\users\\lenovo\\anaconda3\\lib\\site-packages (from yfinance) (4.8.0)\n",
      "Requirement already satisfied: pandas>=0.24.0 in c:\\users\\lenovo\\anaconda3\\lib\\site-packages (from yfinance) (1.4.2)\n",
      "Requirement already satisfied: python-dateutil>=2.8.1 in c:\\users\\lenovo\\anaconda3\\lib\\site-packages (from pandas>=0.24.0->yfinance) (2.8.2)\n",
      "Requirement already satisfied: pytz>=2020.1 in c:\\users\\lenovo\\anaconda3\\lib\\site-packages (from pandas>=0.24.0->yfinance) (2021.3)\n",
      "Requirement already satisfied: six>=1.5 in c:\\users\\lenovo\\anaconda3\\lib\\site-packages (from python-dateutil>=2.8.1->pandas>=0.24.0->yfinance) (1.16.0)\n",
      "Requirement already satisfied: urllib3<1.27,>=1.21.1 in c:\\users\\lenovo\\anaconda3\\lib\\site-packages (from requests>=2.26->yfinance) (1.26.9)\n",
      "Requirement already satisfied: idna<4,>=2.5 in c:\\users\\lenovo\\anaconda3\\lib\\site-packages (from requests>=2.26->yfinance) (3.3)\n",
      "Requirement already satisfied: certifi>=2017.4.17 in c:\\users\\lenovo\\anaconda3\\lib\\site-packages (from requests>=2.26->yfinance) (2021.10.8)\n",
      "Requirement already satisfied: charset-normalizer~=2.0.0 in c:\\users\\lenovo\\anaconda3\\lib\\site-packages (from requests>=2.26->yfinance) (2.0.4)\n"
     ]
    }
   ],
   "source": [
    "pip install yfinance"
   ]
  },
  {
   "cell_type": "code",
   "execution_count": 40,
   "id": "225abc4b-7aee-432c-aef1-386e63010ba7",
   "metadata": {},
   "outputs": [],
   "source": [
    "import yfinance as yf"
   ]
  },
  {
   "cell_type": "code",
   "execution_count": 42,
   "id": "35e4cdf3-4816-4273-a6c2-349c086307ac",
   "metadata": {},
   "outputs": [],
   "source": [
    "import numpy as np"
   ]
  },
  {
   "cell_type": "code",
   "execution_count": 60,
   "id": "b2f5ef8a-667d-4380-997b-b68a9460a0f2",
   "metadata": {},
   "outputs": [],
   "source": [
    "numeros =[25.7, 8, 10]"
   ]
  },
  {
   "cell_type": "code",
   "execution_count": 61,
   "id": "5cec3bf2-09b7-426b-9b21-a373afb86b64",
   "metadata": {},
   "outputs": [
    {
     "data": {
      "text/plain": [
       "list"
      ]
     },
     "execution_count": 61,
     "metadata": {},
     "output_type": "execute_result"
    }
   ],
   "source": [
    "type(numeros)"
   ]
  },
  {
   "cell_type": "code",
   "execution_count": 62,
   "id": "662e9fd3-a7ab-4bdd-93e1-ee85b0a3dacd",
   "metadata": {},
   "outputs": [],
   "source": [
    "numeros= np.array(numeros)"
   ]
  },
  {
   "cell_type": "code",
   "execution_count": 63,
   "id": "9a919c2f-5840-4215-a902-ee76ee12ae3c",
   "metadata": {},
   "outputs": [
    {
     "data": {
      "text/plain": [
       "numpy.ndarray"
      ]
     },
     "execution_count": 63,
     "metadata": {},
     "output_type": "execute_result"
    }
   ],
   "source": [
    "type(numeros)"
   ]
  },
  {
   "cell_type": "code",
   "execution_count": 64,
   "id": "07a2ee52-88da-4941-9bf3-b6f5875d08f5",
   "metadata": {},
   "outputs": [
    {
     "data": {
      "text/plain": [
       "43.7"
      ]
     },
     "execution_count": 64,
     "metadata": {},
     "output_type": "execute_result"
    }
   ],
   "source": [
    "np.sum(numeros)"
   ]
  },
  {
   "cell_type": "code",
   "execution_count": 65,
   "id": "b05bd475-0e88-43be-82ae-84efc88d6572",
   "metadata": {},
   "outputs": [
    {
     "data": {
      "text/plain": [
       "2056.0"
      ]
     },
     "execution_count": 65,
     "metadata": {},
     "output_type": "execute_result"
    }
   ],
   "source": [
    "np.prod(numeros)"
   ]
  },
  {
   "cell_type": "code",
   "execution_count": 66,
   "id": "58a9835b-786f-4377-bbdc-5b2937f9012e",
   "metadata": {},
   "outputs": [
    {
     "data": {
      "text/plain": [
       "14.566666666666668"
      ]
     },
     "execution_count": 66,
     "metadata": {},
     "output_type": "execute_result"
    }
   ],
   "source": [
    "np.mean(numeros) #calcula media "
   ]
  },
  {
   "cell_type": "code",
   "execution_count": 67,
   "id": "fab77637-14a6-4783-ba46-336740899759",
   "metadata": {},
   "outputs": [
    {
     "data": {
      "text/plain": [
       "62.642222222222216"
      ]
     },
     "execution_count": 67,
     "metadata": {},
     "output_type": "execute_result"
    }
   ],
   "source": [
    "np.var(numeros) #calcula varianza poblacional /sigma cuadrada"
   ]
  },
  {
   "cell_type": "code",
   "execution_count": 68,
   "id": "9bda93d4-f0f7-4db4-90c7-7fd5f1c9dcfc",
   "metadata": {},
   "outputs": [
    {
     "data": {
      "text/plain": [
       "93.96333333333332"
      ]
     },
     "execution_count": 68,
     "metadata": {},
     "output_type": "execute_result"
    }
   ],
   "source": [
    "np.var(numeros,ddof=1)  #varianza muestral"
   ]
  },
  {
   "cell_type": "code",
   "execution_count": 70,
   "id": "3a281aff-d03e-4051-952a-2105eaa60c71",
   "metadata": {},
   "outputs": [
    {
     "data": {
      "text/plain": [
       "7.9146839622452525"
      ]
     },
     "execution_count": 70,
     "metadata": {},
     "output_type": "execute_result"
    }
   ],
   "source": [
    "np.std(numeros) #desviacion estandar poblacional"
   ]
  },
  {
   "cell_type": "code",
   "execution_count": 71,
   "id": "250e5c05-2527-4839-966f-1339a4544e61",
   "metadata": {},
   "outputs": [
    {
     "data": {
      "text/plain": [
       "9.693468591445134"
      ]
     },
     "execution_count": 71,
     "metadata": {},
     "output_type": "execute_result"
    }
   ],
   "source": [
    "np.std(numeros, ddof=1) #desviacion estandar muestral"
   ]
  },
  {
   "cell_type": "code",
   "execution_count": 72,
   "id": "4ed48723-c71c-41f7-b3bd-09678e381d94",
   "metadata": {},
   "outputs": [
    {
     "data": {
      "text/plain": [
       "array([0, 1, 2, 3, 4, 5, 6, 7, 8])"
      ]
     },
     "execution_count": 72,
     "metadata": {},
     "output_type": "execute_result"
    }
   ],
   "source": [
    "np.arange(9)"
   ]
  },
  {
   "cell_type": "code",
   "execution_count": 73,
   "id": "3b1c4525-1142-4d2c-838a-64ddc32f7a9c",
   "metadata": {},
   "outputs": [
    {
     "data": {
      "text/plain": [
       "array([ 7,  8,  9, 10, 11, 12, 13, 14])"
      ]
     },
     "execution_count": 73,
     "metadata": {},
     "output_type": "execute_result"
    }
   ],
   "source": [
    "np.arange(7,15)"
   ]
  },
  {
   "cell_type": "code",
   "execution_count": 74,
   "id": "a9961833-df62-49ed-ba60-346faf68c932",
   "metadata": {},
   "outputs": [
    {
     "data": {
      "text/plain": [
       "array([10, 20, 30, 40, 50, 60, 70, 80, 90])"
      ]
     },
     "execution_count": 74,
     "metadata": {},
     "output_type": "execute_result"
    }
   ],
   "source": [
    "np.arange(10,100,10)"
   ]
  },
  {
   "cell_type": "code",
   "execution_count": 75,
   "id": "806695b8-4195-4024-8538-ba94f6abed87",
   "metadata": {},
   "outputs": [
    {
     "data": {
      "text/plain": [
       "array([0., 0., 0., 0., 0., 0., 0.])"
      ]
     },
     "execution_count": 75,
     "metadata": {},
     "output_type": "execute_result"
    }
   ],
   "source": [
    "np.zeros(7)"
   ]
  },
  {
   "cell_type": "code",
   "execution_count": 76,
   "id": "b35cc38a-2dd7-49d5-8b76-b05dd56451ca",
   "metadata": {},
   "outputs": [
    {
     "data": {
      "text/plain": [
       "array([1., 1., 1., 1., 1., 1., 1.])"
      ]
     },
     "execution_count": 76,
     "metadata": {},
     "output_type": "execute_result"
    }
   ],
   "source": [
    "np.ones(7)"
   ]
  },
  {
   "cell_type": "code",
   "execution_count": 77,
   "id": "af2dcd99-dcbf-4e21-bbef-66fdc64cc001",
   "metadata": {},
   "outputs": [
    {
     "data": {
      "text/plain": [
       "array([9, 9, 9, 9, 9, 9])"
      ]
     },
     "execution_count": 77,
     "metadata": {},
     "output_type": "execute_result"
    }
   ],
   "source": [
    "np.full(6,9)"
   ]
  },
  {
   "cell_type": "code",
   "execution_count": 80,
   "id": "645b17f7-4ec5-4515-9aa7-4df6e9ec9185",
   "metadata": {},
   "outputs": [
    {
     "data": {
      "text/plain": [
       "array([8, 6])"
      ]
     },
     "execution_count": 80,
     "metadata": {},
     "output_type": "execute_result"
    }
   ],
   "source": [
    "np.random.randint(0,10,2)"
   ]
  },
  {
   "cell_type": "code",
   "execution_count": 86,
   "id": "88be3889-2e23-4f81-bbc8-4e9d0213b2d1",
   "metadata": {},
   "outputs": [],
   "source": [
    "np.random.seed(5) #fijar semillas para que los numeros alestorios sean iguales y alguin mas lo pueda replicar\n",
    "aleatoriosu= np.random.randint(10,30,8)\n",
    "#aleatorios que vienen de una uniforme \n"
   ]
  },
  {
   "cell_type": "code",
   "execution_count": 87,
   "id": "cac9cd9a-93a0-4c84-9d78-d23a97cdd397",
   "metadata": {},
   "outputs": [
    {
     "data": {
      "text/plain": [
       "array([13, 24, 25, 16, 26, 19, 18, 14])"
      ]
     },
     "execution_count": 87,
     "metadata": {},
     "output_type": "execute_result"
    }
   ],
   "source": [
    "aleatoriosu"
   ]
  },
  {
   "cell_type": "code",
   "execution_count": 89,
   "id": "c67e2679-70e8-47b2-b7ab-e9258d038ed2",
   "metadata": {},
   "outputs": [],
   "source": [
    "aleatoriosu= np.sort(aleatoriosu)"
   ]
  },
  {
   "cell_type": "code",
   "execution_count": 90,
   "id": "0881dbb4-93e7-46e0-a054-72d7e97bca9f",
   "metadata": {},
   "outputs": [
    {
     "data": {
      "text/plain": [
       "array([13, 14, 16, 18, 19, 24, 25, 26])"
      ]
     },
     "execution_count": 90,
     "metadata": {},
     "output_type": "execute_result"
    }
   ],
   "source": [
    "aleatoriosu"
   ]
  },
  {
   "cell_type": "code",
   "execution_count": 91,
   "id": "ac0d3d2f-7c03-4c53-86f7-f4fb286a460e",
   "metadata": {},
   "outputs": [
    {
     "data": {
      "text/plain": [
       "16"
      ]
     },
     "execution_count": 91,
     "metadata": {},
     "output_type": "execute_result"
    }
   ],
   "source": [
    "aleatoriosu[2]"
   ]
  },
  {
   "cell_type": "code",
   "execution_count": 93,
   "id": "b223c4fd-4e31-4cf6-9f3c-be516133990f",
   "metadata": {},
   "outputs": [
    {
     "data": {
      "text/plain": [
       "array([16, 24])"
      ]
     },
     "execution_count": 93,
     "metadata": {},
     "output_type": "execute_result"
    }
   ],
   "source": [
    "aleatoriosu[[2,5]]"
   ]
  },
  {
   "cell_type": "code",
   "execution_count": 94,
   "id": "ab636e8b-21c4-4113-949e-536a33c87f0e",
   "metadata": {},
   "outputs": [
    {
     "data": {
      "text/plain": [
       "array([False, False,  True,  True,  True,  True,  True,  True])"
      ]
     },
     "execution_count": 94,
     "metadata": {},
     "output_type": "execute_result"
    }
   ],
   "source": [
    "aleatoriosu>15"
   ]
  },
  {
   "cell_type": "code",
   "execution_count": 95,
   "id": "ad4e21b2-435f-45fd-99c4-bf383dd203f1",
   "metadata": {},
   "outputs": [
    {
     "data": {
      "text/plain": [
       "array([16, 18, 19, 24, 25, 26])"
      ]
     },
     "execution_count": 95,
     "metadata": {},
     "output_type": "execute_result"
    }
   ],
   "source": [
    "aleatoriosu[aleatoriosu>15]"
   ]
  },
  {
   "cell_type": "code",
   "execution_count": 96,
   "id": "fcc5f57a-ce5a-4e0d-885f-963487541dda",
   "metadata": {},
   "outputs": [],
   "source": [
    "num2 = [10,8,20]"
   ]
  },
  {
   "cell_type": "code",
   "execution_count": 97,
   "id": "0d129fa1-9f9d-46f7-98f3-44c0618e7f1a",
   "metadata": {},
   "outputs": [],
   "source": [
    "num2 = np.array(num2)"
   ]
  },
  {
   "cell_type": "code",
   "execution_count": 98,
   "id": "d836fa80-84ef-404a-95be-b8a068fca392",
   "metadata": {},
   "outputs": [
    {
     "data": {
      "text/plain": [
       "12.666666666666666"
      ]
     },
     "execution_count": 98,
     "metadata": {},
     "output_type": "execute_result"
    }
   ],
   "source": [
    "np.mean(num2)"
   ]
  },
  {
   "cell_type": "code",
   "execution_count": 99,
   "id": "1ba939dc-9488-44d0-86b1-a64a7a492785",
   "metadata": {},
   "outputs": [
    {
     "data": {
      "text/plain": [
       "12.666666666666666"
      ]
     },
     "execution_count": 99,
     "metadata": {},
     "output_type": "execute_result"
    }
   ],
   "source": [
    "num2.mean()"
   ]
  },
  {
   "cell_type": "code",
   "execution_count": 102,
   "id": "34bb6670-d9e4-4e9e-a0c6-1d3cc87027e5",
   "metadata": {},
   "outputs": [
    {
     "data": {
      "text/plain": [
       "38"
      ]
     },
     "execution_count": 102,
     "metadata": {},
     "output_type": "execute_result"
    }
   ],
   "source": [
    "round(np.mean(np.sum(num2)))"
   ]
  },
  {
   "cell_type": "code",
   "execution_count": 104,
   "id": "74868648-1da3-436b-9bfc-b53bc7758066",
   "metadata": {},
   "outputs": [
    {
     "data": {
      "text/plain": [
       "38.0"
      ]
     },
     "execution_count": 104,
     "metadata": {},
     "output_type": "execute_result"
    }
   ],
   "source": [
    "num2.sum().mean().round()"
   ]
  },
  {
   "cell_type": "code",
   "execution_count": 105,
   "id": "1260f00d-95ab-45e0-ae50-9c8f9fee358d",
   "metadata": {},
   "outputs": [],
   "source": [
    "numeros = [1.23, 2.45578, 5.66888785]"
   ]
  },
  {
   "cell_type": "code",
   "execution_count": 106,
   "id": "47feb2c6-053e-4d7d-8e48-168d063bfbf2",
   "metadata": {},
   "outputs": [
    {
     "data": {
      "text/plain": [
       "3.12"
      ]
     },
     "execution_count": 106,
     "metadata": {},
     "output_type": "execute_result"
    }
   ],
   "source": [
    "round(np.mean(np.array(numeros)),2)"
   ]
  },
  {
   "cell_type": "code",
   "execution_count": 107,
   "id": "9fff817a-52a2-4aa3-b4f1-c603eb3d664a",
   "metadata": {},
   "outputs": [
    {
     "data": {
      "text/plain": [
       "3.12"
      ]
     },
     "execution_count": 107,
     "metadata": {},
     "output_type": "execute_result"
    }
   ],
   "source": [
    "np.array(numeros).mean().round(2)"
   ]
  }
 ],
 "metadata": {
  "kernelspec": {
   "display_name": "Python 3 (ipykernel)",
   "language": "python",
   "name": "python3"
  },
  "language_info": {
   "codemirror_mode": {
    "name": "ipython",
    "version": 3
   },
   "file_extension": ".py",
   "mimetype": "text/x-python",
   "name": "python",
   "nbconvert_exporter": "python",
   "pygments_lexer": "ipython3",
   "version": "3.9.12"
  }
 },
 "nbformat": 4,
 "nbformat_minor": 5
}
