{
 "cells": [
  {
   "cell_type": "markdown",
   "id": "fc6cba51",
   "metadata": {},
   "source": [
    "## Actividad 5 \n",
    "### Supervivencia en python\n",
    "### Lizbeth Ramos Saucedo          Matricula: 1885423       Gpo.42\n",
    "\n",
    "#### 17 de marzo del 2023\n",
    "\n"
   ]
  },
  {
   "cell_type": "code",
   "execution_count": 1,
   "id": "781c0206",
   "metadata": {},
   "outputs": [
    {
     "name": "stdout",
     "output_type": "stream",
     "text": [
      "Requirement already satisfied: lifelines in c:\\users\\sauce\\anaconda3\\lib\\site-packages (0.27.4)\n",
      "Requirement already satisfied: numpy>=1.14.0 in c:\\users\\sauce\\anaconda3\\lib\\site-packages (from lifelines) (1.21.5)\n",
      "Requirement already satisfied: formulaic>=0.2.2 in c:\\users\\sauce\\anaconda3\\lib\\site-packages (from lifelines) (0.5.2)\n",
      "Requirement already satisfied: autograd>=1.5 in c:\\users\\sauce\\anaconda3\\lib\\site-packages (from lifelines) (1.5)\n",
      "Requirement already satisfied: matplotlib>=3.0 in c:\\users\\sauce\\anaconda3\\lib\\site-packages (from lifelines) (3.5.2)\n",
      "Requirement already satisfied: autograd-gamma>=0.3 in c:\\users\\sauce\\anaconda3\\lib\\site-packages (from lifelines) (0.5.0)\n",
      "Requirement already satisfied: pandas>=1.0.0 in c:\\users\\sauce\\anaconda3\\lib\\site-packages (from lifelines) (1.4.4)\n",
      "Requirement already satisfied: scipy>=1.2.0 in c:\\users\\sauce\\anaconda3\\lib\\site-packages (from lifelines) (1.9.1)\n",
      "Requirement already satisfied: future>=0.15.2 in c:\\users\\sauce\\anaconda3\\lib\\site-packages (from autograd>=1.5->lifelines) (0.18.2)\n",
      "Requirement already satisfied: interface-meta>=1.2.0 in c:\\users\\sauce\\anaconda3\\lib\\site-packages (from formulaic>=0.2.2->lifelines) (1.3.0)\n",
      "Requirement already satisfied: astor>=0.8 in c:\\users\\sauce\\anaconda3\\lib\\site-packages (from formulaic>=0.2.2->lifelines) (0.8.1)\n",
      "Requirement already satisfied: typing-extensions>=4.2.0 in c:\\users\\sauce\\anaconda3\\lib\\site-packages (from formulaic>=0.2.2->lifelines) (4.3.0)\n",
      "Requirement already satisfied: wrapt>=1.0 in c:\\users\\sauce\\anaconda3\\lib\\site-packages (from formulaic>=0.2.2->lifelines) (1.14.1)\n",
      "Requirement already satisfied: kiwisolver>=1.0.1 in c:\\users\\sauce\\anaconda3\\lib\\site-packages (from matplotlib>=3.0->lifelines) (1.4.2)\n",
      "Requirement already satisfied: cycler>=0.10 in c:\\users\\sauce\\anaconda3\\lib\\site-packages (from matplotlib>=3.0->lifelines) (0.11.0)\n",
      "Requirement already satisfied: packaging>=20.0 in c:\\users\\sauce\\anaconda3\\lib\\site-packages (from matplotlib>=3.0->lifelines) (21.3)\n",
      "Requirement already satisfied: pillow>=6.2.0 in c:\\users\\sauce\\anaconda3\\lib\\site-packages (from matplotlib>=3.0->lifelines) (9.2.0)\n",
      "Requirement already satisfied: pyparsing>=2.2.1 in c:\\users\\sauce\\anaconda3\\lib\\site-packages (from matplotlib>=3.0->lifelines) (3.0.9)\n",
      "Requirement already satisfied: python-dateutil>=2.7 in c:\\users\\sauce\\anaconda3\\lib\\site-packages (from matplotlib>=3.0->lifelines) (2.8.2)\n",
      "Requirement already satisfied: fonttools>=4.22.0 in c:\\users\\sauce\\anaconda3\\lib\\site-packages (from matplotlib>=3.0->lifelines) (4.25.0)\n",
      "Requirement already satisfied: pytz>=2020.1 in c:\\users\\sauce\\anaconda3\\lib\\site-packages (from pandas>=1.0.0->lifelines) (2022.1)\n",
      "Requirement already satisfied: six>=1.5 in c:\\users\\sauce\\anaconda3\\lib\\site-packages (from python-dateutil>=2.7->matplotlib>=3.0->lifelines) (1.16.0)\n",
      "Note: you may need to restart the kernel to use updated packages.\n"
     ]
    }
   ],
   "source": [
    " pip install lifelines"
   ]
  },
  {
   "cell_type": "code",
   "execution_count": 2,
   "id": "59a8d7e4",
   "metadata": {},
   "outputs": [],
   "source": [
    "import numpy as pd \n",
    "import pandas as pd \n",
    "import matplotlib.pyplot as plt\n",
    "%matplotlib inline\n",
    "from lifelines import KaplanMeierFitter\n"
   ]
  },
  {
   "cell_type": "code",
   "execution_count": 3,
   "id": "b6c00525",
   "metadata": {},
   "outputs": [],
   "source": [
    "examenes = pd.read_excel('C:/Users/sauce/Downloads/supervivencia_examenes.xlsx')"
   ]
  },
  {
   "cell_type": "code",
   "execution_count": 4,
   "id": "1904668c",
   "metadata": {},
   "outputs": [
    {
     "data": {
      "text/html": [
       "<div>\n",
       "<style scoped>\n",
       "    .dataframe tbody tr th:only-of-type {\n",
       "        vertical-align: middle;\n",
       "    }\n",
       "\n",
       "    .dataframe tbody tr th {\n",
       "        vertical-align: top;\n",
       "    }\n",
       "\n",
       "    .dataframe thead th {\n",
       "        text-align: right;\n",
       "    }\n",
       "</style>\n",
       "<table border=\"1\" class=\"dataframe\">\n",
       "  <thead>\n",
       "    <tr style=\"text-align: right;\">\n",
       "      <th></th>\n",
       "      <th>id</th>\n",
       "      <th>tiempo</th>\n",
       "      <th>examen</th>\n",
       "      <th>calificación</th>\n",
       "      <th>género</th>\n",
       "    </tr>\n",
       "  </thead>\n",
       "  <tbody>\n",
       "    <tr>\n",
       "      <th>0</th>\n",
       "      <td>1</td>\n",
       "      <td>85</td>\n",
       "      <td>1</td>\n",
       "      <td>100.0</td>\n",
       "      <td>m</td>\n",
       "    </tr>\n",
       "    <tr>\n",
       "      <th>1</th>\n",
       "      <td>2</td>\n",
       "      <td>109</td>\n",
       "      <td>1</td>\n",
       "      <td>100.0</td>\n",
       "      <td>m</td>\n",
       "    </tr>\n",
       "    <tr>\n",
       "      <th>2</th>\n",
       "      <td>3</td>\n",
       "      <td>118</td>\n",
       "      <td>1</td>\n",
       "      <td>100.0</td>\n",
       "      <td>m</td>\n",
       "    </tr>\n",
       "    <tr>\n",
       "      <th>3</th>\n",
       "      <td>4</td>\n",
       "      <td>120</td>\n",
       "      <td>1</td>\n",
       "      <td>100.0</td>\n",
       "      <td>f</td>\n",
       "    </tr>\n",
       "    <tr>\n",
       "      <th>4</th>\n",
       "      <td>5</td>\n",
       "      <td>106</td>\n",
       "      <td>1</td>\n",
       "      <td>98.0</td>\n",
       "      <td>f</td>\n",
       "    </tr>\n",
       "    <tr>\n",
       "      <th>5</th>\n",
       "      <td>6</td>\n",
       "      <td>103</td>\n",
       "      <td>1</td>\n",
       "      <td>98.0</td>\n",
       "      <td>m</td>\n",
       "    </tr>\n",
       "    <tr>\n",
       "      <th>6</th>\n",
       "      <td>7</td>\n",
       "      <td>108</td>\n",
       "      <td>1</td>\n",
       "      <td>96.0</td>\n",
       "      <td>f</td>\n",
       "    </tr>\n",
       "    <tr>\n",
       "      <th>7</th>\n",
       "      <td>8</td>\n",
       "      <td>119</td>\n",
       "      <td>1</td>\n",
       "      <td>96.0</td>\n",
       "      <td>f</td>\n",
       "    </tr>\n",
       "    <tr>\n",
       "      <th>8</th>\n",
       "      <td>9</td>\n",
       "      <td>115</td>\n",
       "      <td>1</td>\n",
       "      <td>96.0</td>\n",
       "      <td>f</td>\n",
       "    </tr>\n",
       "    <tr>\n",
       "      <th>9</th>\n",
       "      <td>10</td>\n",
       "      <td>108</td>\n",
       "      <td>1</td>\n",
       "      <td>94.0</td>\n",
       "      <td>f</td>\n",
       "    </tr>\n",
       "    <tr>\n",
       "      <th>10</th>\n",
       "      <td>11</td>\n",
       "      <td>87</td>\n",
       "      <td>1</td>\n",
       "      <td>88.0</td>\n",
       "      <td>m</td>\n",
       "    </tr>\n",
       "    <tr>\n",
       "      <th>11</th>\n",
       "      <td>12</td>\n",
       "      <td>99</td>\n",
       "      <td>1</td>\n",
       "      <td>86.0</td>\n",
       "      <td>f</td>\n",
       "    </tr>\n",
       "    <tr>\n",
       "      <th>12</th>\n",
       "      <td>13</td>\n",
       "      <td>112</td>\n",
       "      <td>1</td>\n",
       "      <td>84.0</td>\n",
       "      <td>m</td>\n",
       "    </tr>\n",
       "    <tr>\n",
       "      <th>13</th>\n",
       "      <td>14</td>\n",
       "      <td>111</td>\n",
       "      <td>1</td>\n",
       "      <td>82.0</td>\n",
       "      <td>m</td>\n",
       "    </tr>\n",
       "    <tr>\n",
       "      <th>14</th>\n",
       "      <td>15</td>\n",
       "      <td>90</td>\n",
       "      <td>1</td>\n",
       "      <td>78.0</td>\n",
       "      <td>f</td>\n",
       "    </tr>\n",
       "    <tr>\n",
       "      <th>15</th>\n",
       "      <td>16</td>\n",
       "      <td>116</td>\n",
       "      <td>1</td>\n",
       "      <td>74.0</td>\n",
       "      <td>m</td>\n",
       "    </tr>\n",
       "    <tr>\n",
       "      <th>16</th>\n",
       "      <td>17</td>\n",
       "      <td>119</td>\n",
       "      <td>1</td>\n",
       "      <td>72.0</td>\n",
       "      <td>m</td>\n",
       "    </tr>\n",
       "  </tbody>\n",
       "</table>\n",
       "</div>"
      ],
      "text/plain": [
       "    id  tiempo  examen  calificación género\n",
       "0    1      85       1         100.0      m\n",
       "1    2     109       1         100.0      m\n",
       "2    3     118       1         100.0      m\n",
       "3    4     120       1         100.0      f\n",
       "4    5     106       1          98.0      f\n",
       "5    6     103       1          98.0      m\n",
       "6    7     108       1          96.0      f\n",
       "7    8     119       1          96.0      f\n",
       "8    9     115       1          96.0      f\n",
       "9   10     108       1          94.0      f\n",
       "10  11      87       1          88.0      m\n",
       "11  12      99       1          86.0      f\n",
       "12  13     112       1          84.0      m\n",
       "13  14     111       1          82.0      m\n",
       "14  15      90       1          78.0      f\n",
       "15  16     116       1          74.0      m\n",
       "16  17     119       1          72.0      m"
      ]
     },
     "execution_count": 4,
     "metadata": {},
     "output_type": "execute_result"
    }
   ],
   "source": [
    "examenes\n"
   ]
  },
  {
   "cell_type": "markdown",
   "id": "fb3f50fb",
   "metadata": {},
   "source": [
    "Tenemos los datos de 17 alumnos que presentaron el examen de estadística aplicada el año pasado a los cuales se les dio 2hrs (120 minutos) para contestar el examen. Las variables son las siguientes:\n",
    "\n",
    "**id** es un identificador de alumno\n",
    "\n",
    "**tiempo** es el tiempo medido en minutos que tardaron en contestar el examen\n",
    "\n",
    "**examen** toma el valor de 1 si entrego el examen y 0 sino lo entrego\n",
    "\n",
    "**calificación** es la calificación recibida en el examen\n",
    "\n",
    "**género** es m:masculino y f:femenino.\n",
    "\n",
    "El profesor de la materia considera que podemos emplear un análisis de \n",
    "supervivencia, ya que tenemos el tiempo en minutos desde que se les proporciona\n",
    "a los alumnos el examen hasta que lo entregan respondido al profesor, donde el \n",
    "evento, es entregar el examen.\n",
    "Asi que utilizando el enfoque de supervivencia usted ayudara al profesor a realizar \n",
    "el análisis del tiempo que tardan los alumnos en responder el examen. El análisis \n",
    "deberá realizarlo en una notebook de Python\n"
   ]
  },
  {
   "cell_type": "markdown",
   "id": "568fc8ad",
   "metadata": {},
   "source": [
    "a) Estadísticas descriptivas. Calcule el tiempo promedio que tardaron en \n",
    "responder los alumnos el examen y la calificación promedio obtenida.\n",
    "El profesor sospecha que las alumnas responden más rápido el examen, \n",
    "calcule el tiempo promedio que tardaron en responder las alumnas y su \n",
    "calificación promedio, asi como el tiempo promedio que tardaron en \n",
    "responder los alumnos y su calificación promedio.\n",
    "Elabore un print mostrando dichos resultados "
   ]
  },
  {
   "cell_type": "code",
   "execution_count": 5,
   "id": "e37530ef",
   "metadata": {},
   "outputs": [],
   "source": [
    "tt=examenes['tiempo'].mean()\n",
    "tc=examenes['calificación'].mean()"
   ]
  },
  {
   "cell_type": "code",
   "execution_count": 6,
   "id": "8e17f071",
   "metadata": {},
   "outputs": [],
   "source": [
    "mujeres = examenes[examenes['género'] =='f']\n",
    "mt=mujeres['tiempo'].mean()\n",
    "mc=mujeres['calificación'].mean()"
   ]
  },
  {
   "cell_type": "code",
   "execution_count": 7,
   "id": "585f8888",
   "metadata": {},
   "outputs": [],
   "source": [
    "hombres = examenes[examenes['género'] =='m']\n",
    "ht=hombres['tiempo'].mean()\n",
    "hc=hombres['calificación'].mean()"
   ]
  },
  {
   "cell_type": "code",
   "execution_count": 8,
   "id": "f4dfd3da",
   "metadata": {},
   "outputs": [
    {
     "name": "stdout",
     "output_type": "stream",
     "text": [
      "\n",
      "El tiempo promedio que tardaron los alumnos en responder el examen es de  107.35 min, con una calificaión promedio de 90.71\n",
      " El tiempo prom de las mujeres es de 108.125 min, con una calificación prom de 93.0\n",
      " El tiempo promedio de los hombres es de 106.67 min, con una calificación prom de 88.67 \n"
     ]
    }
   ],
   "source": [
    "print(f'\\nEl tiempo promedio que tardaron los alumnos en responder el examen es de  {round(tt,2)} min, con una calificaión promedio de {round(tc,2)}\\n El tiempo prom de las mujeres es de {mt} min, con una calificación prom de {mc}\\n El tiempo promedio de los hombres es de {round(ht,2)} min, con una calificación prom de {round(hc,2)} ')"
   ]
  },
  {
   "cell_type": "markdown",
   "id": "a84d80f2",
   "metadata": {},
   "source": [
    "b) ¿Cómo crees que se comporta el riesgo de entregar el examen conforme \n",
    "transcurre el tiempo? ¿es constante, creciente, o decreciente? Según tu respuesta ajusta un modelo exponencial o Weibull, primero para todos los \n",
    "individuos y muestra la función de riesgo."
   ]
  },
  {
   "cell_type": "markdown",
   "id": "5e6147fd",
   "metadata": {},
   "source": [
    "checar cual modelo es mejor exp o weibul ?? o no "
   ]
  },
  {
   "cell_type": "code",
   "execution_count": 9,
   "id": "1a4e1741",
   "metadata": {},
   "outputs": [],
   "source": [
    "from lifelines import WeibullFitter \n",
    "from lifelines import ExponentialFitter"
   ]
  },
  {
   "cell_type": "code",
   "execution_count": 10,
   "id": "8dd4d726",
   "metadata": {},
   "outputs": [],
   "source": [
    "mexp = ExponentialFitter().fit(examenes['tiempo'],examenes['examen'] ) \n",
    "weib = WeibullFitter().fit(examenes['tiempo'],examenes['examen'] ) "
   ]
  },
  {
   "cell_type": "code",
   "execution_count": 11,
   "id": "bcc15a59",
   "metadata": {},
   "outputs": [
    {
     "data": {
      "text/plain": [
       "(194.99, 130.35)"
      ]
     },
     "execution_count": 11,
     "metadata": {},
     "output_type": "execute_result"
    }
   ],
   "source": [
    "mexp.AIC_.round(2) , weib.AIC_.round(2)"
   ]
  },
  {
   "cell_type": "markdown",
   "id": "1cbd5f7e",
   "metadata": {},
   "source": [
    "El \"mejor\" modelo es el que tiene el menor valor del AIC. El criterio de Akaike \"prefiere\" modelos mas simples en lugar de complejos.\n",
    "De acuerdo con el criterio de Akaike (AIC) el modelo que mejor estima el tiempo de supervivencia es el modelo de Weibull, por lo cual será utilizado para nuestros calculos "
   ]
  },
  {
   "cell_type": "code",
   "execution_count": 12,
   "id": "565264b0",
   "metadata": {},
   "outputs": [
    {
     "data": {
      "text/html": [
       "<div>\n",
       "<style scoped>\n",
       "    .dataframe tbody tr th:only-of-type {\n",
       "        vertical-align: middle;\n",
       "    }\n",
       "\n",
       "    .dataframe tbody tr th {\n",
       "        vertical-align: top;\n",
       "    }\n",
       "\n",
       "    .dataframe thead th {\n",
       "        text-align: right;\n",
       "    }\n",
       "</style>\n",
       "<table border=\"1\" class=\"dataframe\">\n",
       "  <thead>\n",
       "    <tr style=\"text-align: right;\">\n",
       "      <th></th>\n",
       "      <th>Weibull_estimate</th>\n",
       "    </tr>\n",
       "  </thead>\n",
       "  <tbody>\n",
       "    <tr>\n",
       "      <th>85.0000</th>\n",
       "      <td>0.004025</td>\n",
       "    </tr>\n",
       "    <tr>\n",
       "      <th>87.1875</th>\n",
       "      <td>0.005499</td>\n",
       "    </tr>\n",
       "    <tr>\n",
       "      <th>89.3750</th>\n",
       "      <td>0.007454</td>\n",
       "    </tr>\n",
       "    <tr>\n",
       "      <th>91.5625</th>\n",
       "      <td>0.010031</td>\n",
       "    </tr>\n",
       "    <tr>\n",
       "      <th>93.7500</th>\n",
       "      <td>0.013405</td>\n",
       "    </tr>\n",
       "    <tr>\n",
       "      <th>95.9375</th>\n",
       "      <td>0.017795</td>\n",
       "    </tr>\n",
       "    <tr>\n",
       "      <th>98.1250</th>\n",
       "      <td>0.023471</td>\n",
       "    </tr>\n",
       "    <tr>\n",
       "      <th>100.3125</th>\n",
       "      <td>0.030769</td>\n",
       "    </tr>\n",
       "    <tr>\n",
       "      <th>102.5000</th>\n",
       "      <td>0.040101</td>\n",
       "    </tr>\n",
       "    <tr>\n",
       "      <th>104.6875</th>\n",
       "      <td>0.051973</td>\n",
       "    </tr>\n",
       "    <tr>\n",
       "      <th>106.8750</th>\n",
       "      <td>0.066999</td>\n",
       "    </tr>\n",
       "    <tr>\n",
       "      <th>109.0625</th>\n",
       "      <td>0.085926</td>\n",
       "    </tr>\n",
       "    <tr>\n",
       "      <th>111.2500</th>\n",
       "      <td>0.109657</td>\n",
       "    </tr>\n",
       "    <tr>\n",
       "      <th>113.4375</th>\n",
       "      <td>0.139278</td>\n",
       "    </tr>\n",
       "    <tr>\n",
       "      <th>115.6250</th>\n",
       "      <td>0.176095</td>\n",
       "    </tr>\n",
       "    <tr>\n",
       "      <th>117.8125</th>\n",
       "      <td>0.221667</td>\n",
       "    </tr>\n",
       "    <tr>\n",
       "      <th>120.0000</th>\n",
       "      <td>0.277854</td>\n",
       "    </tr>\n",
       "  </tbody>\n",
       "</table>\n",
       "</div>"
      ],
      "text/plain": [
       "          Weibull_estimate\n",
       "85.0000           0.004025\n",
       "87.1875           0.005499\n",
       "89.3750           0.007454\n",
       "91.5625           0.010031\n",
       "93.7500           0.013405\n",
       "95.9375           0.017795\n",
       "98.1250           0.023471\n",
       "100.3125          0.030769\n",
       "102.5000          0.040101\n",
       "104.6875          0.051973\n",
       "106.8750          0.066999\n",
       "109.0625          0.085926\n",
       "111.2500          0.109657\n",
       "113.4375          0.139278\n",
       "115.6250          0.176095\n",
       "117.8125          0.221667\n",
       "120.0000          0.277854"
      ]
     },
     "execution_count": 12,
     "metadata": {},
     "output_type": "execute_result"
    }
   ],
   "source": [
    "weib.hazard_"
   ]
  },
  {
   "cell_type": "code",
   "execution_count": 13,
   "id": "f187f800",
   "metadata": {},
   "outputs": [
    {
     "data": {
      "image/png": "[encoded data removed]",
      "text/plain": [
       "<Figure size 640x480 with 1 Axes>"
      ]
     },
     "metadata": {},
     "output_type": "display_data"
    }
   ],
   "source": [
    "weib.plot_hazard();"
   ]
  },
  {
   "cell_type": "markdown",
   "id": "7b27bd32",
   "metadata": {},
   "source": [
    "El riesgo se comporta de manera creciente respecto al tiempo."
   ]
  },
  {
   "cell_type": "markdown",
   "id": "2ae582b3",
   "metadata": {},
   "source": [
    "c) Ahora estima el mismo modelo que planteaste en el inciso anterior, pero para \n",
    "hombres y mujeres, y grafica ambas funciones de supervivencia juntas \n",
    "(empalmadas), ¿gráficamente quien tarda más en entregar el examen?"
   ]
  },
  {
   "cell_type": "code",
   "execution_count": 14,
   "id": "4a076294",
   "metadata": {},
   "outputs": [
    {
     "data": {
      "text/html": [
       "<div>\n",
       "<style scoped>\n",
       "    .dataframe tbody tr th:only-of-type {\n",
       "        vertical-align: middle;\n",
       "    }\n",
       "\n",
       "    .dataframe tbody tr th {\n",
       "        vertical-align: top;\n",
       "    }\n",
       "\n",
       "    .dataframe thead th {\n",
       "        text-align: right;\n",
       "    }\n",
       "</style>\n",
       "<table border=\"1\" class=\"dataframe\">\n",
       "  <thead>\n",
       "    <tr style=\"text-align: right;\">\n",
       "      <th></th>\n",
       "      <th>Weibull_estimate</th>\n",
       "    </tr>\n",
       "  </thead>\n",
       "  <tbody>\n",
       "    <tr>\n",
       "      <th>90.000000</th>\n",
       "      <td>0.957135</td>\n",
       "    </tr>\n",
       "    <tr>\n",
       "      <th>94.285714</th>\n",
       "      <td>0.918982</td>\n",
       "    </tr>\n",
       "    <tr>\n",
       "      <th>98.571429</th>\n",
       "      <td>0.853640</td>\n",
       "    </tr>\n",
       "    <tr>\n",
       "      <th>102.857143</th>\n",
       "      <td>0.749329</td>\n",
       "    </tr>\n",
       "    <tr>\n",
       "      <th>107.142857</th>\n",
       "      <td>0.598397</td>\n",
       "    </tr>\n",
       "    <tr>\n",
       "      <th>111.428571</th>\n",
       "      <td>0.409298</td>\n",
       "    </tr>\n",
       "    <tr>\n",
       "      <th>115.714286</th>\n",
       "      <td>0.218295</td>\n",
       "    </tr>\n",
       "    <tr>\n",
       "      <th>120.000000</th>\n",
       "      <td>0.078625</td>\n",
       "    </tr>\n",
       "  </tbody>\n",
       "</table>\n",
       "</div>"
      ],
      "text/plain": [
       "            Weibull_estimate\n",
       "90.000000           0.957135\n",
       "94.285714           0.918982\n",
       "98.571429           0.853640\n",
       "102.857143          0.749329\n",
       "107.142857          0.598397\n",
       "111.428571          0.409298\n",
       "115.714286          0.218295\n",
       "120.000000          0.078625"
      ]
     },
     "execution_count": 14,
     "metadata": {},
     "output_type": "execute_result"
    }
   ],
   "source": [
    "muj_weib = WeibullFitter().fit(mujeres['tiempo'],mujeres['examen'] ) \n",
    "muj_weib.survival_function_"
   ]
  },
  {
   "cell_type": "code",
   "execution_count": 15,
   "id": "b94e445b",
   "metadata": {},
   "outputs": [
    {
     "data": {
      "text/html": [
       "<div>\n",
       "<style scoped>\n",
       "    .dataframe tbody tr th:only-of-type {\n",
       "        vertical-align: middle;\n",
       "    }\n",
       "\n",
       "    .dataframe tbody tr th {\n",
       "        vertical-align: top;\n",
       "    }\n",
       "\n",
       "    .dataframe thead th {\n",
       "        text-align: right;\n",
       "    }\n",
       "</style>\n",
       "<table border=\"1\" class=\"dataframe\">\n",
       "  <thead>\n",
       "    <tr style=\"text-align: right;\">\n",
       "      <th></th>\n",
       "      <th>Weibull_estimate</th>\n",
       "    </tr>\n",
       "  </thead>\n",
       "  <tbody>\n",
       "    <tr>\n",
       "      <th>85.00</th>\n",
       "      <td>0.967787</td>\n",
       "    </tr>\n",
       "    <tr>\n",
       "      <th>89.25</th>\n",
       "      <td>0.941411</td>\n",
       "    </tr>\n",
       "    <tr>\n",
       "      <th>93.50</th>\n",
       "      <td>0.897448</td>\n",
       "    </tr>\n",
       "    <tr>\n",
       "      <th>97.75</th>\n",
       "      <td>0.827832</td>\n",
       "    </tr>\n",
       "    <tr>\n",
       "      <th>102.00</th>\n",
       "      <td>0.724549</td>\n",
       "    </tr>\n",
       "    <tr>\n",
       "      <th>106.25</th>\n",
       "      <td>0.584142</td>\n",
       "    </tr>\n",
       "    <tr>\n",
       "      <th>110.50</th>\n",
       "      <td>0.415119</td>\n",
       "    </tr>\n",
       "    <tr>\n",
       "      <th>114.75</th>\n",
       "      <td>0.243815</td>\n",
       "    </tr>\n",
       "    <tr>\n",
       "      <th>119.00</th>\n",
       "      <td>0.107858</td>\n",
       "    </tr>\n",
       "  </tbody>\n",
       "</table>\n",
       "</div>"
      ],
      "text/plain": [
       "        Weibull_estimate\n",
       "85.00           0.967787\n",
       "89.25           0.941411\n",
       "93.50           0.897448\n",
       "97.75           0.827832\n",
       "102.00          0.724549\n",
       "106.25          0.584142\n",
       "110.50          0.415119\n",
       "114.75          0.243815\n",
       "119.00          0.107858"
      ]
     },
     "execution_count": 15,
     "metadata": {},
     "output_type": "execute_result"
    }
   ],
   "source": [
    "hombres_weib = WeibullFitter().fit(hombres['tiempo'],hombres['examen'] ) \n",
    "hombres_weib.survival_function_"
   ]
  },
  {
   "cell_type": "code",
   "execution_count": 16,
   "id": "a7053bfc",
   "metadata": {},
   "outputs": [
    {
     "data": {
      "image/png": "[encoded data removed]",
      "text/plain": [
       "<Figure size 640x480 with 1 Axes>"
      ]
     },
     "metadata": {},
     "output_type": "display_data"
    }
   ],
   "source": [
    "#grafica de supervivencia\n",
    "muj_weib.plot_survival_function(label='mujeres',ci_show=False,color='red');\n",
    "hombres_weib.plot_survival_function(label = 'hombres',ci_show=False, color='blue');"
   ]
  },
  {
   "cell_type": "markdown",
   "id": "8cdb0480",
   "metadata": {},
   "source": [
    "la funcion de supervivencia de las mujeres es mayor por lo cual tradan mas al entregar el examen "
   ]
  },
  {
   "cell_type": "code",
   "execution_count": 17,
   "id": "6ef21592",
   "metadata": {},
   "outputs": [
    {
     "data": {
      "image/png": "[encoded data removed]",
      "text/plain": [
       "<Figure size 640x480 with 1 Axes>"
      ]
     },
     "metadata": {},
     "output_type": "display_data"
    }
   ],
   "source": [
    "#grafiaca de riesgo \n",
    "EntregaH = WeibullFitter().fit(hombres['tiempo'],hombres['examen'])\n",
    "EntregaM = WeibullFitter().fit(mujeres['tiempo'],mujeres['examen'])\n",
    "EntregaH.plot_hazard(label = 'Funcion de Riesgo para Hombres',color='blue').legend()\n",
    "EntregaM.plot_hazard(label = 'Funcion de Riesgo para Mujeres',color='red').legend()\n",
    "plt.show()"
   ]
  },
  {
   "cell_type": "markdown",
   "id": "e1418436",
   "metadata": {},
   "source": [
    "graficamente se percibe que las mujeres tienen una menor funcion de riesgo, pero al minuto 115 esto cambia y su funcion de riesgo ahora es mayor que la de los hombres"
   ]
  },
  {
   "cell_type": "markdown",
   "id": "fd27e6b5",
   "metadata": {},
   "source": [
    "d) Estime la función de supervivencia del tiempo de entrega del examen de \n",
    "todos los alumnos utilizando Kaplan-Meier, muestre los valores de la función \n",
    "de supervivencia, los valores del **intervalos de confianza al 95%**, asi como la \n",
    "gráfica respectiva de la función de supervivencia con sus intervalos"
   ]
  },
  {
   "cell_type": "code",
   "execution_count": 18,
   "id": "783f870f",
   "metadata": {},
   "outputs": [
    {
     "data": {
      "text/html": [
       "<div>\n",
       "<style scoped>\n",
       "    .dataframe tbody tr th:only-of-type {\n",
       "        vertical-align: middle;\n",
       "    }\n",
       "\n",
       "    .dataframe tbody tr th {\n",
       "        vertical-align: top;\n",
       "    }\n",
       "\n",
       "    .dataframe thead th {\n",
       "        text-align: right;\n",
       "    }\n",
       "</style>\n",
       "<table border=\"1\" class=\"dataframe\">\n",
       "  <thead>\n",
       "    <tr style=\"text-align: right;\">\n",
       "      <th></th>\n",
       "      <th>KM_estimate</th>\n",
       "    </tr>\n",
       "    <tr>\n",
       "      <th>timeline</th>\n",
       "      <th></th>\n",
       "    </tr>\n",
       "  </thead>\n",
       "  <tbody>\n",
       "    <tr>\n",
       "      <th>0.0</th>\n",
       "      <td>1.000000</td>\n",
       "    </tr>\n",
       "    <tr>\n",
       "      <th>85.0</th>\n",
       "      <td>0.941176</td>\n",
       "    </tr>\n",
       "    <tr>\n",
       "      <th>87.0</th>\n",
       "      <td>0.882353</td>\n",
       "    </tr>\n",
       "    <tr>\n",
       "      <th>90.0</th>\n",
       "      <td>0.823529</td>\n",
       "    </tr>\n",
       "    <tr>\n",
       "      <th>99.0</th>\n",
       "      <td>0.764706</td>\n",
       "    </tr>\n",
       "    <tr>\n",
       "      <th>103.0</th>\n",
       "      <td>0.705882</td>\n",
       "    </tr>\n",
       "    <tr>\n",
       "      <th>106.0</th>\n",
       "      <td>0.647059</td>\n",
       "    </tr>\n",
       "    <tr>\n",
       "      <th>108.0</th>\n",
       "      <td>0.529412</td>\n",
       "    </tr>\n",
       "    <tr>\n",
       "      <th>109.0</th>\n",
       "      <td>0.470588</td>\n",
       "    </tr>\n",
       "    <tr>\n",
       "      <th>111.0</th>\n",
       "      <td>0.411765</td>\n",
       "    </tr>\n",
       "    <tr>\n",
       "      <th>112.0</th>\n",
       "      <td>0.352941</td>\n",
       "    </tr>\n",
       "    <tr>\n",
       "      <th>115.0</th>\n",
       "      <td>0.294118</td>\n",
       "    </tr>\n",
       "    <tr>\n",
       "      <th>116.0</th>\n",
       "      <td>0.235294</td>\n",
       "    </tr>\n",
       "    <tr>\n",
       "      <th>118.0</th>\n",
       "      <td>0.176471</td>\n",
       "    </tr>\n",
       "    <tr>\n",
       "      <th>119.0</th>\n",
       "      <td>0.058824</td>\n",
       "    </tr>\n",
       "    <tr>\n",
       "      <th>120.0</th>\n",
       "      <td>0.000000</td>\n",
       "    </tr>\n",
       "  </tbody>\n",
       "</table>\n",
       "</div>"
      ],
      "text/plain": [
       "          KM_estimate\n",
       "timeline             \n",
       "0.0          1.000000\n",
       "85.0         0.941176\n",
       "87.0         0.882353\n",
       "90.0         0.823529\n",
       "99.0         0.764706\n",
       "103.0        0.705882\n",
       "106.0        0.647059\n",
       "108.0        0.529412\n",
       "109.0        0.470588\n",
       "111.0        0.411765\n",
       "112.0        0.352941\n",
       "115.0        0.294118\n",
       "116.0        0.235294\n",
       "118.0        0.176471\n",
       "119.0        0.058824\n",
       "120.0        0.000000"
      ]
     },
     "execution_count": 18,
     "metadata": {},
     "output_type": "execute_result"
    }
   ],
   "source": [
    "kt = KaplanMeierFitter().fit(examenes['tiempo'], examenes['examen'])\n",
    "kt.survival_function_"
   ]
  },
  {
   "cell_type": "code",
   "execution_count": 19,
   "id": "3d222290",
   "metadata": {},
   "outputs": [
    {
     "data": {
      "image/png": "[encoded data removed]",
      "text/plain": [
       "<Figure size 640x480 with 1 Axes>"
      ]
     },
     "metadata": {},
     "output_type": "display_data"
    }
   ],
   "source": [
    "kt.plot_survival_function(label=' tiempo de entrega de examen',ci_show=False, color='orange');"
   ]
  },
  {
   "cell_type": "markdown",
   "id": "4ff41f56",
   "metadata": {},
   "source": [
    "e) Realice un gráfico donde muestre la función de supervivencia de Kaplan Meier de los alumnos (m) y de las alumnas (f) con sus respectivos intervalos \n",
    "de confianza. Y comente con base en la gráfica si es posible que el profesor \n",
    "tenga razón respecto a que las alumnas responden más rápido el examen"
   ]
  },
  {
   "cell_type": "code",
   "execution_count": 20,
   "id": "2c988c5b",
   "metadata": {},
   "outputs": [],
   "source": [
    "km = KaplanMeierFitter().fit(mujeres['tiempo'], mujeres['examen'])\n",
    "kh = KaplanMeierFitter().fit(hombres['tiempo'], hombres['examen'])\n"
   ]
  },
  {
   "cell_type": "code",
   "execution_count": 21,
   "id": "a3f02354",
   "metadata": {},
   "outputs": [
    {
     "data": {
      "image/png": "[encoded data removed]",
      "text/plain": [
       "<Figure size 640x480 with 1 Axes>"
      ]
     },
     "metadata": {},
     "output_type": "display_data"
    }
   ],
   "source": [
    "kh.plot_survival_function(label='hombre', color='blue' );\n",
    "km.plot_survival_function(label='mujer', color='red');"
   ]
  },
  {
   "cell_type": "markdown",
   "id": "2b1fdfe5",
   "metadata": {},
   "source": [
    "\n",
    "Si los intervalos de confianza se traslapan significa que las funciones de supervivencia pueden ser iguales, graficamente es dificil la visualización de que género sobrevive más.\n"
   ]
  },
  {
   "cell_type": "markdown",
   "id": "9632e622",
   "metadata": {},
   "source": [
    "f) Realice el log rank test para probar si las funciones de supervivencia de \n",
    "alumnos y alumnas para responder el examen son iguales. Comente el \n",
    "resultado de la prueba de hipótesis y diga si el profesor tiene razón o no "
   ]
  },
  {
   "cell_type": "code",
   "execution_count": 22,
   "id": "a4ac215f",
   "metadata": {},
   "outputs": [],
   "source": [
    "from lifelines.statistics import logrank_test"
   ]
  },
  {
   "cell_type": "markdown",
   "id": "b5432c87",
   "metadata": {},
   "source": [
    "**Hipotesis** \n",
    "\n",
    "$H_o$: las funciones de supervivencia  entre hombre y mujeres son iguales \n",
    "\n",
    "\n",
    "$H_a$: la funciones de supervivencia son diferentes "
   ]
  },
  {
   "cell_type": "code",
   "execution_count": 23,
   "id": "8c852ce1",
   "metadata": {},
   "outputs": [],
   "source": [
    "lrt = logrank_test(mujeres['tiempo'],hombres['tiempo'], mujeres['examen'], hombres['examen'])"
   ]
  },
  {
   "cell_type": "markdown",
   "id": "167bc461",
   "metadata": {},
   "source": [
    "si p value< alfa  rechazamos H0"
   ]
  },
  {
   "cell_type": "code",
   "execution_count": 24,
   "id": "de30d449",
   "metadata": {},
   "outputs": [
    {
     "data": {
      "text/html": [
       "<div>\n",
       "<style scoped>\n",
       "    .dataframe tbody tr th:only-of-type {\n",
       "        vertical-align: middle;\n",
       "    }\n",
       "\n",
       "    .dataframe tbody tr th {\n",
       "        vertical-align: top;\n",
       "    }\n",
       "\n",
       "    .dataframe thead th {\n",
       "        text-align: right;\n",
       "    }\n",
       "</style>\n",
       "<table border=\"1\" class=\"dataframe\">\n",
       "  <tbody>\n",
       "    <tr>\n",
       "      <th>t_0</th>\n",
       "      <td>-1</td>\n",
       "    </tr>\n",
       "    <tr>\n",
       "      <th>null_distribution</th>\n",
       "      <td>chi squared</td>\n",
       "    </tr>\n",
       "    <tr>\n",
       "      <th>degrees_of_freedom</th>\n",
       "      <td>1</td>\n",
       "    </tr>\n",
       "    <tr>\n",
       "      <th>test_name</th>\n",
       "      <td>logrank_test</td>\n",
       "    </tr>\n",
       "  </tbody>\n",
       "</table>\n",
       "</div><table border=\"1\" class=\"dataframe\">\n",
       "  <thead>\n",
       "    <tr style=\"text-align: right;\">\n",
       "      <th></th>\n",
       "      <th>test_statistic</th>\n",
       "      <th>p</th>\n",
       "      <th>-log2(p)</th>\n",
       "    </tr>\n",
       "  </thead>\n",
       "  <tbody>\n",
       "    <tr>\n",
       "      <th>0</th>\n",
       "      <td>0.15</td>\n",
       "      <td>0.69</td>\n",
       "      <td>0.53</td>\n",
       "    </tr>\n",
       "  </tbody>\n",
       "</table>"
      ],
      "text/latex": [
       "\\begin{tabular}{lrrr}\n",
       " & test_statistic & p & -log2(p) \\\\\n",
       "0 & 0.15 & 0.69 & 0.53 \\\\\n",
       "\\end{tabular}\n"
      ],
      "text/plain": [
       "<lifelines.StatisticalResult: logrank_test>\n",
       "               t_0 = -1\n",
       " null_distribution = chi squared\n",
       "degrees_of_freedom = 1\n",
       "         test_name = logrank_test\n",
       "\n",
       "---\n",
       " test_statistic    p  -log2(p)\n",
       "           0.15 0.69      0.53"
      ]
     },
     "metadata": {},
     "output_type": "display_data"
    }
   ],
   "source": [
    "lrt.print_summary()"
   ]
  },
  {
   "cell_type": "markdown",
   "id": "ae7873d4",
   "metadata": {},
   "source": [
    "p value < alfa  \n",
    "0.69 < 0.05\n",
    "\n",
    "Por lo tanto NO se rechaza H0 y se concluye que las funciones de supervivencia son iguales."
   ]
  },
  {
   "cell_type": "markdown",
   "id": "36ed1eea",
   "metadata": {},
   "source": [
    "g) El profesor tambien sospecha que quienes entregan el examen más rápido es \n",
    "porque no estudiaron, por tanto no saben que responder y entregan el \n",
    "examen casi inmediatamente. \n",
    "Estime un modelo de cox de riesgos proporcionales donde utilice como \n",
    "variables explicativas el género y la calificación obtenida, para explicar la \n",
    "función de riesgo de entregar el examen"
   ]
  },
  {
   "cell_type": "code",
   "execution_count": 25,
   "id": "b632c528",
   "metadata": {},
   "outputs": [],
   "source": [
    "from lifelines import CoxPHFitter"
   ]
  },
  {
   "cell_type": "code",
   "execution_count": 26,
   "id": "74811387",
   "metadata": {},
   "outputs": [],
   "source": [
    "datos = pd.get_dummies(examenes,'genero',drop_first = True) "
   ]
  },
  {
   "cell_type": "code",
   "execution_count": 27,
   "id": "6778be84",
   "metadata": {},
   "outputs": [
    {
     "data": {
      "text/html": [
       "<div>\n",
       "<style scoped>\n",
       "    .dataframe tbody tr th:only-of-type {\n",
       "        vertical-align: middle;\n",
       "    }\n",
       "\n",
       "    .dataframe tbody tr th {\n",
       "        vertical-align: top;\n",
       "    }\n",
       "\n",
       "    .dataframe thead th {\n",
       "        text-align: right;\n",
       "    }\n",
       "</style>\n",
       "<table border=\"1\" class=\"dataframe\">\n",
       "  <thead>\n",
       "    <tr style=\"text-align: right;\">\n",
       "      <th></th>\n",
       "      <th>id</th>\n",
       "      <th>tiempo</th>\n",
       "      <th>examen</th>\n",
       "      <th>calificación</th>\n",
       "      <th>genero_m</th>\n",
       "    </tr>\n",
       "  </thead>\n",
       "  <tbody>\n",
       "    <tr>\n",
       "      <th>0</th>\n",
       "      <td>1</td>\n",
       "      <td>85</td>\n",
       "      <td>1</td>\n",
       "      <td>100.0</td>\n",
       "      <td>1</td>\n",
       "    </tr>\n",
       "    <tr>\n",
       "      <th>1</th>\n",
       "      <td>2</td>\n",
       "      <td>109</td>\n",
       "      <td>1</td>\n",
       "      <td>100.0</td>\n",
       "      <td>1</td>\n",
       "    </tr>\n",
       "    <tr>\n",
       "      <th>2</th>\n",
       "      <td>3</td>\n",
       "      <td>118</td>\n",
       "      <td>1</td>\n",
       "      <td>100.0</td>\n",
       "      <td>1</td>\n",
       "    </tr>\n",
       "    <tr>\n",
       "      <th>3</th>\n",
       "      <td>4</td>\n",
       "      <td>120</td>\n",
       "      <td>1</td>\n",
       "      <td>100.0</td>\n",
       "      <td>0</td>\n",
       "    </tr>\n",
       "    <tr>\n",
       "      <th>4</th>\n",
       "      <td>5</td>\n",
       "      <td>106</td>\n",
       "      <td>1</td>\n",
       "      <td>98.0</td>\n",
       "      <td>0</td>\n",
       "    </tr>\n",
       "    <tr>\n",
       "      <th>5</th>\n",
       "      <td>6</td>\n",
       "      <td>103</td>\n",
       "      <td>1</td>\n",
       "      <td>98.0</td>\n",
       "      <td>1</td>\n",
       "    </tr>\n",
       "    <tr>\n",
       "      <th>6</th>\n",
       "      <td>7</td>\n",
       "      <td>108</td>\n",
       "      <td>1</td>\n",
       "      <td>96.0</td>\n",
       "      <td>0</td>\n",
       "    </tr>\n",
       "    <tr>\n",
       "      <th>7</th>\n",
       "      <td>8</td>\n",
       "      <td>119</td>\n",
       "      <td>1</td>\n",
       "      <td>96.0</td>\n",
       "      <td>0</td>\n",
       "    </tr>\n",
       "    <tr>\n",
       "      <th>8</th>\n",
       "      <td>9</td>\n",
       "      <td>115</td>\n",
       "      <td>1</td>\n",
       "      <td>96.0</td>\n",
       "      <td>0</td>\n",
       "    </tr>\n",
       "    <tr>\n",
       "      <th>9</th>\n",
       "      <td>10</td>\n",
       "      <td>108</td>\n",
       "      <td>1</td>\n",
       "      <td>94.0</td>\n",
       "      <td>0</td>\n",
       "    </tr>\n",
       "    <tr>\n",
       "      <th>10</th>\n",
       "      <td>11</td>\n",
       "      <td>87</td>\n",
       "      <td>1</td>\n",
       "      <td>88.0</td>\n",
       "      <td>1</td>\n",
       "    </tr>\n",
       "    <tr>\n",
       "      <th>11</th>\n",
       "      <td>12</td>\n",
       "      <td>99</td>\n",
       "      <td>1</td>\n",
       "      <td>86.0</td>\n",
       "      <td>0</td>\n",
       "    </tr>\n",
       "    <tr>\n",
       "      <th>12</th>\n",
       "      <td>13</td>\n",
       "      <td>112</td>\n",
       "      <td>1</td>\n",
       "      <td>84.0</td>\n",
       "      <td>1</td>\n",
       "    </tr>\n",
       "    <tr>\n",
       "      <th>13</th>\n",
       "      <td>14</td>\n",
       "      <td>111</td>\n",
       "      <td>1</td>\n",
       "      <td>82.0</td>\n",
       "      <td>1</td>\n",
       "    </tr>\n",
       "    <tr>\n",
       "      <th>14</th>\n",
       "      <td>15</td>\n",
       "      <td>90</td>\n",
       "      <td>1</td>\n",
       "      <td>78.0</td>\n",
       "      <td>0</td>\n",
       "    </tr>\n",
       "    <tr>\n",
       "      <th>15</th>\n",
       "      <td>16</td>\n",
       "      <td>116</td>\n",
       "      <td>1</td>\n",
       "      <td>74.0</td>\n",
       "      <td>1</td>\n",
       "    </tr>\n",
       "    <tr>\n",
       "      <th>16</th>\n",
       "      <td>17</td>\n",
       "      <td>119</td>\n",
       "      <td>1</td>\n",
       "      <td>72.0</td>\n",
       "      <td>1</td>\n",
       "    </tr>\n",
       "  </tbody>\n",
       "</table>\n",
       "</div>"
      ],
      "text/plain": [
       "    id  tiempo  examen  calificación  genero_m\n",
       "0    1      85       1         100.0         1\n",
       "1    2     109       1         100.0         1\n",
       "2    3     118       1         100.0         1\n",
       "3    4     120       1         100.0         0\n",
       "4    5     106       1          98.0         0\n",
       "5    6     103       1          98.0         1\n",
       "6    7     108       1          96.0         0\n",
       "7    8     119       1          96.0         0\n",
       "8    9     115       1          96.0         0\n",
       "9   10     108       1          94.0         0\n",
       "10  11      87       1          88.0         1\n",
       "11  12      99       1          86.0         0\n",
       "12  13     112       1          84.0         1\n",
       "13  14     111       1          82.0         1\n",
       "14  15      90       1          78.0         0\n",
       "15  16     116       1          74.0         1\n",
       "16  17     119       1          72.0         1"
      ]
     },
     "execution_count": 27,
     "metadata": {},
     "output_type": "execute_result"
    }
   ],
   "source": [
    "datos"
   ]
  },
  {
   "cell_type": "code",
   "execution_count": 36,
   "id": "113e834f",
   "metadata": {},
   "outputs": [
    {
     "data": {
      "text/html": [
       "<div>\n",
       "<style scoped>\n",
       "    .dataframe tbody tr th:only-of-type {\n",
       "        vertical-align: middle;\n",
       "    }\n",
       "\n",
       "    .dataframe tbody tr th {\n",
       "        vertical-align: top;\n",
       "    }\n",
       "\n",
       "    .dataframe thead th {\n",
       "        text-align: right;\n",
       "    }\n",
       "</style>\n",
       "<table border=\"1\" class=\"dataframe\">\n",
       "  <tbody>\n",
       "    <tr>\n",
       "      <th>model</th>\n",
       "      <td>lifelines.CoxPHFitter</td>\n",
       "    </tr>\n",
       "    <tr>\n",
       "      <th>duration col</th>\n",
       "      <td>'tiempo'</td>\n",
       "    </tr>\n",
       "    <tr>\n",
       "      <th>event col</th>\n",
       "      <td>'examen'</td>\n",
       "    </tr>\n",
       "    <tr>\n",
       "      <th>baseline estimation</th>\n",
       "      <td>breslow</td>\n",
       "    </tr>\n",
       "    <tr>\n",
       "      <th>number of observations</th>\n",
       "      <td>17</td>\n",
       "    </tr>\n",
       "    <tr>\n",
       "      <th>number of events observed</th>\n",
       "      <td>17</td>\n",
       "    </tr>\n",
       "    <tr>\n",
       "      <th>partial log-likelihood</th>\n",
       "      <td>-33.31</td>\n",
       "    </tr>\n",
       "    <tr>\n",
       "      <th>time fit was run</th>\n",
       "      <td>2023-03-21 03:17:55 UTC</td>\n",
       "    </tr>\n",
       "  </tbody>\n",
       "</table>\n",
       "</div><table border=\"1\" class=\"dataframe\">\n",
       "  <thead>\n",
       "    <tr style=\"text-align: right;\">\n",
       "      <th style=\"min-width: 12px;\"></th>\n",
       "      <th style=\"min-width: 12px;\">coef</th>\n",
       "      <th style=\"min-width: 12px;\">exp(coef)</th>\n",
       "      <th style=\"min-width: 12px;\">se(coef)</th>\n",
       "      <th style=\"min-width: 12px;\">coef lower 95%</th>\n",
       "      <th style=\"min-width: 12px;\">coef upper 95%</th>\n",
       "      <th style=\"min-width: 12px;\">exp(coef) lower 95%</th>\n",
       "      <th style=\"min-width: 12px;\">exp(coef) upper 95%</th>\n",
       "      <th style=\"min-width: 12px;\">cmp to</th>\n",
       "      <th style=\"min-width: 12px;\">z</th>\n",
       "      <th style=\"min-width: 12px;\">p</th>\n",
       "      <th style=\"min-width: 12px;\">-log2(p)</th>\n",
       "    </tr>\n",
       "  </thead>\n",
       "  <tbody>\n",
       "    <tr>\n",
       "      <th>id</th>\n",
       "      <td>0.10</td>\n",
       "      <td>1.10</td>\n",
       "      <td>0.24</td>\n",
       "      <td>-0.36</td>\n",
       "      <td>0.56</td>\n",
       "      <td>0.70</td>\n",
       "      <td>1.75</td>\n",
       "      <td>0.00</td>\n",
       "      <td>0.42</td>\n",
       "      <td>0.67</td>\n",
       "      <td>0.57</td>\n",
       "    </tr>\n",
       "    <tr>\n",
       "      <th>calificación</th>\n",
       "      <td>0.06</td>\n",
       "      <td>1.06</td>\n",
       "      <td>0.13</td>\n",
       "      <td>-0.19</td>\n",
       "      <td>0.30</td>\n",
       "      <td>0.83</td>\n",
       "      <td>1.36</td>\n",
       "      <td>0.00</td>\n",
       "      <td>0.47</td>\n",
       "      <td>0.64</td>\n",
       "      <td>0.64</td>\n",
       "    </tr>\n",
       "    <tr>\n",
       "      <th>genero_m</th>\n",
       "      <td>0.50</td>\n",
       "      <td>1.66</td>\n",
       "      <td>0.80</td>\n",
       "      <td>-1.07</td>\n",
       "      <td>2.08</td>\n",
       "      <td>0.34</td>\n",
       "      <td>7.99</td>\n",
       "      <td>0.00</td>\n",
       "      <td>0.63</td>\n",
       "      <td>0.53</td>\n",
       "      <td>0.92</td>\n",
       "    </tr>\n",
       "  </tbody>\n",
       "</table><br><div>\n",
       "<style scoped>\n",
       "    .dataframe tbody tr th:only-of-type {\n",
       "        vertical-align: middle;\n",
       "    }\n",
       "\n",
       "    .dataframe tbody tr th {\n",
       "        vertical-align: top;\n",
       "    }\n",
       "\n",
       "    .dataframe thead th {\n",
       "        text-align: right;\n",
       "    }\n",
       "</style>\n",
       "<table border=\"1\" class=\"dataframe\">\n",
       "  <tbody>\n",
       "    <tr>\n",
       "      <th>Concordance</th>\n",
       "      <td>0.51</td>\n",
       "    </tr>\n",
       "    <tr>\n",
       "      <th>Partial AIC</th>\n",
       "      <td>72.61</td>\n",
       "    </tr>\n",
       "    <tr>\n",
       "      <th>log-likelihood ratio test</th>\n",
       "      <td>0.40 on 3 df</td>\n",
       "    </tr>\n",
       "    <tr>\n",
       "      <th>-log2(p) of ll-ratio test</th>\n",
       "      <td>0.09</td>\n",
       "    </tr>\n",
       "  </tbody>\n",
       "</table>\n",
       "</div>"
      ],
      "text/latex": [
       "\\begin{tabular}{lrrrrrrrrrrr}\n",
       " & coef & exp(coef) & se(coef) & coef lower 95% & coef upper 95% & exp(coef) lower 95% & exp(coef) upper 95% & cmp to & z & p & -log2(p) \\\\\n",
       "covariate &  &  &  &  &  &  &  &  &  &  &  \\\\\n",
       "id & 0.10 & 1.10 & 0.24 & -0.36 & 0.56 & 0.70 & 1.75 & 0.00 & 0.42 & 0.67 & 0.57 \\\\\n",
       "calificación & 0.06 & 1.06 & 0.13 & -0.19 & 0.30 & 0.83 & 1.36 & 0.00 & 0.47 & 0.64 & 0.64 \\\\\n",
       "genero_m & 0.50 & 1.66 & 0.80 & -1.07 & 2.08 & 0.34 & 7.99 & 0.00 & 0.63 & 0.53 & 0.92 \\\\\n",
       "\\end{tabular}\n"
      ],
      "text/plain": [
       "<lifelines.CoxPHFitter: fitted with 17 total observations, 0 right-censored observations>\n",
       "             duration col = 'tiempo'\n",
       "                event col = 'examen'\n",
       "      baseline estimation = breslow\n",
       "   number of observations = 17\n",
       "number of events observed = 17\n",
       "   partial log-likelihood = -33.31\n",
       "         time fit was run = 2023-03-21 03:17:55 UTC\n",
       "\n",
       "---\n",
       "               coef  exp(coef)   se(coef)   coef lower 95%   coef upper 95%  exp(coef) lower 95%  exp(coef) upper 95%\n",
       "covariate                                                                                                            \n",
       "id             0.10       1.10       0.24            -0.36             0.56                 0.70                 1.75\n",
       "calificación   0.06       1.06       0.13            -0.19             0.30                 0.83                 1.36\n",
       "genero_m       0.50       1.66       0.80            -1.07             2.08                 0.34                 7.99\n",
       "\n",
       "               cmp to    z    p   -log2(p)\n",
       "covariate                                 \n",
       "id               0.00 0.42 0.67       0.57\n",
       "calificación     0.00 0.47 0.64       0.64\n",
       "genero_m         0.00 0.63 0.53       0.92\n",
       "---\n",
       "Concordance = 0.51\n",
       "Partial AIC = 72.61\n",
       "log-likelihood ratio test = 0.40 on 3 df\n",
       "-log2(p) of ll-ratio test = 0.09"
      ]
     },
     "metadata": {},
     "output_type": "display_data"
    }
   ],
   "source": [
    "cph = CoxPHFitter()\n",
    "cph.fit(datos,'tiempo','examen')\n",
    "cph.print_summary()"
   ]
  },
  {
   "cell_type": "markdown",
   "id": "2ebe92b9",
   "metadata": {},
   "source": [
    "h) Interprete los coeficientes de género y calificación obtenidos por el modelo \n",
    "de cox, recuerde señalar: 1) si el coeficiente es significativo (se rechaza Ho), \n",
    "en caso de ser significativo señala si aumentan el riesgo de entregar el \n",
    "examen, y el tamaño del efecto. Recuerde añadir cph.plot() para ayudarse con \n",
    "la interpretación"
   ]
  },
  {
   "cell_type": "markdown",
   "id": "bb86c863",
   "metadata": {},
   "source": [
    "\n",
    "\n",
    "$H_o:\\beta_i = 0$ Variable no afecta\n",
    "\n",
    "$H_a:\\beta_i \\neq  0$ Variable si afecta\n",
    "\n",
    "$\\alpha = 0.05$\n",
    "\n",
    "Si $\\alpha<p$ entonces se rechaza $H_o$\n",
    "\n",
    "\"Coef\" nos va a indicar si el riesgo aumenta o disminuye\n",
    "\n",
    "Si coef<0 : el riesgo disminuye en 1-exp(coef) = %\n",
    "\n",
    "Si coef>0 : el riesgo aumenta en exp(coef)-1 = %"
   ]
  },
  {
   "cell_type": "code",
   "execution_count": 37,
   "id": "cccba6a7",
   "metadata": {},
   "outputs": [
    {
     "data": {
      "image/png": "[encoded data removed]",
      "text/plain": [
       "<Figure size 640x480 with 1 Axes>"
      ]
     },
     "metadata": {},
     "output_type": "display_data"
    }
   ],
   "source": [
    "cph.plot();"
   ]
  },
  {
   "cell_type": "markdown",
   "id": "8176181c",
   "metadata": {},
   "source": [
    "**Calificación:**\n",
    "  \n",
    "    -> P-value > alfa\n",
    "     0.64 > 0.05\n",
    "     \n",
    "    Rechazamos Ho:  lo cual significa que la variable calificacion afecta en el tiempo que se uso para el examen.\n",
    "    Signo del coeficiente (+)\n",
    "    -> El tiempo de entrega del examen aumenta la calificacion obtenida\n",
    "   \n",
    "   Como  coef>0 : el riesgo aumenta en exp(coef)-1 = %\n",
    "    ->  1.06-1 = 6%\n",
    "    la calificacion del alumno aumenta el riesgo del tiempo en el que entregue su examen en un 6%"
   ]
  },
  {
   "cell_type": "markdown",
   "id": "b7be2f62",
   "metadata": {},
   "source": [
    "**Genero_m ( Hombres 1 y Mujeres 0):**\n",
    "\n",
    "    P-value > alfa\n",
    "    -> 0.53 > 0.05\n",
    "    \n",
    "    Rechazamos Ho, por lo cual, el genero afecta en el tiempo que uso para la prueba.\n",
    "    Signo del coeficiente (+)\n",
    "    -> El tiempo de entrega del examen aumenta con el genero del estudiante\n",
    "    \n",
    "   Como  coef>0 : el riesgo aumenta en exp(coef)-1 = %\n",
    "    ->  1.66-1 = 66%, el género del alumno aumenta el riesgo del tiempo en el que entregue su examen "
   ]
  },
  {
   "cell_type": "markdown",
   "id": "2b2e6cc4",
   "metadata": {},
   "source": [
    "i) Utilice cph.plot_partial_effects_on_outcome(covariates='variable', \n",
    "values=[0,1]) para estimar las funciones de supervivencia de alumnos y \n",
    "alumnas de acuerdo con el modelo de cox ¿obtiene resultados similares al \n",
    "inciso c, es decir, coincide con las funciones de supervivencia de Kaplan\u0002Meier?\n"
   ]
  },
  {
   "cell_type": "code",
   "execution_count": 43,
   "id": "69633862",
   "metadata": {},
   "outputs": [
    {
     "data": {
      "image/png": "[encoded data removed]",
      "text/plain": [
       "<Figure size 640x480 with 1 Axes>"
      ]
     },
     "metadata": {},
     "output_type": "display_data"
    }
   ],
   "source": [
    "cph.plot_partial_effects_on_outcome(covariates='genero_m', values=[0,1]);"
   ]
  },
  {
   "cell_type": "markdown",
   "id": "58f6a246",
   "metadata": {},
   "source": [
    "la funcion de supervivencia de los hombres es menor, por lo cual tardan menos en responder el examen"
   ]
  },
  {
   "cell_type": "code",
   "execution_count": 41,
   "id": "708dc9a6",
   "metadata": {},
   "outputs": [
    {
     "data": {
      "image/png": "[encoded data removed]",
      "text/plain": [
       "<Figure size 640x480 with 1 Axes>"
      ]
     },
     "metadata": {},
     "output_type": "display_data"
    }
   ],
   "source": [
    "cph.plot_partial_effects_on_outcome(covariates='calificación',values=[70,80,90,100]);"
   ]
  },
  {
   "cell_type": "markdown",
   "id": "7928b357",
   "metadata": {},
   "source": [
    "¿Obtienes resultados similares al inciso C, es decir, coincide con las funciones de supervivencia de Kaplan-Meier?: \n",
    "los resultados graficos obtenidos con kaplan Meier, respecto al genero, si coinciden o al menos son similares apartir de que fue la entrega "
   ]
  },
  {
   "cell_type": "markdown",
   "id": "d48bfd2b",
   "metadata": {},
   "source": [
    "j) Por último, con base en la interpretación del modelo de cox y la significancia\n",
    "de los coeficientes, comente si el profesor tiene razón al señalar que las \n",
    "alumnas responden en menor tiempo el examen, y si el profesor tambien \n",
    "tiene razón al señalar que los que entregan el examen rápido no estudiaron y \n",
    "por tanto obtienen menores calificación"
   ]
  },
  {
   "cell_type": "markdown",
   "id": "8255cacf",
   "metadata": {},
   "source": [
    "Al inicio las entregas de los examenes fueron en tiempos muy similares como se logra apreciar en la grafica, por lo cual la teoria que los que no estudiaron entregan el examen mas rápido es falsa "
   ]
  },
  {
   "cell_type": "markdown",
   "id": "1eb4687e",
   "metadata": {},
   "source": [
    "Respecto al modelo de Cox, ¿Las alumnas responden en menor tiempo el examen?:\n",
    "    \n",
    "Las mujeres en el grafico anterior se distinguen por la linea azul y tienen mayor supervivencia por lo cual se concluye que estas fueron quienes se tardaron mayor tiempo realizando la prueba"
   ]
  }
 ],
 "metadata": {
  "kernelspec": {
   "display_name": "Python 3 (ipykernel)",
   "language": "python",
   "name": "python3"
  },
  "language_info": {
   "codemirror_mode": {
    "name": "ipython",
    "version": 3
   },
   "file_extension": ".py",
   "mimetype": "text/x-python",
   "name": "python",
   "nbconvert_exporter": "python",
   "pygments_lexer": "ipython3",
   "version": "3.9.13"
  }
 },
 "nbformat": 4,
 "nbformat_minor": 5
}
