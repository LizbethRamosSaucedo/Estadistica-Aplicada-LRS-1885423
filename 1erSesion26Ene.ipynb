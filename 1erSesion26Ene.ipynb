{
 "cells": [
  {
   "cell_type": "markdown",
   "id": "69cf16f4-098b-400f-ae9a-437c04ad7bb5",
   "metadata": {},
   "source": [
    "# Estadistica aplicada \n",
    "## Lizbeth Ramos Saucedo \n",
    "### Primer sesion 26 de enero \n",
    "**negritas**\n"
   ]
  },
  {
   "cell_type": "markdown",
   "id": "d26dd6c1-840f-47ea-8e56-eb0d655fef4e",
   "metadata": {},
   "source": [
    "tambien admite codigo de latex \n",
    "este es un ejemplo de una ecuacion:\n",
    "$y_i+bx_i+\\epsilon_i$\n",
    "\n"
   ]
  },
  {
   "cell_type": "code",
   "execution_count": 1,
   "id": "bea9d822-582e-41c8-bb28-dfaab60b3362",
   "metadata": {},
   "outputs": [],
   "source": [
    "variable1 = 1.34"
   ]
  },
  {
   "cell_type": "code",
   "execution_count": 2,
   "id": "101d6920-d6ea-4676-9e4a-5bac02ed3a72",
   "metadata": {},
   "outputs": [
    {
     "data": {
      "text/plain": [
       "1.34"
      ]
     },
     "execution_count": 2,
     "metadata": {},
     "output_type": "execute_result"
    }
   ],
   "source": [
    "variable1"
   ]
  },
  {
   "cell_type": "code",
   "execution_count": 3,
   "id": "cb942dfe-8b9c-4731-80c2-4b5d26e2317c",
   "metadata": {},
   "outputs": [],
   "source": [
    "variable2 = 2"
   ]
  },
  {
   "cell_type": "code",
   "execution_count": 4,
   "id": "ebf9a2be-cd41-4eb3-a4db-87ffeb3e0ca8",
   "metadata": {},
   "outputs": [
    {
     "data": {
      "text/plain": [
       "2"
      ]
     },
     "execution_count": 4,
     "metadata": {},
     "output_type": "execute_result"
    }
   ],
   "source": [
    "variable2"
   ]
  },
  {
   "cell_type": "code",
   "execution_count": 7,
   "id": "92369302-b481-4004-8ada-e8470e1b0d9f",
   "metadata": {},
   "outputs": [],
   "source": [
    "variable3 = \"A\"\n"
   ]
  },
  {
   "cell_type": "code",
   "execution_count": 8,
   "id": "dc306d84-a63e-431f-8311-d82f0694f742",
   "metadata": {},
   "outputs": [
    {
     "data": {
      "text/plain": [
       "'A'"
      ]
     },
     "execution_count": 8,
     "metadata": {},
     "output_type": "execute_result"
    }
   ],
   "source": [
    "variable3"
   ]
  },
  {
   "cell_type": "code",
   "execution_count": 10,
   "id": "3b384462-c799-43d6-a2d0-98f8d6861dd1",
   "metadata": {},
   "outputs": [
    {
     "data": {
      "text/plain": [
       "float"
      ]
     },
     "execution_count": 10,
     "metadata": {},
     "output_type": "execute_result"
    }
   ],
   "source": [
    "type (variable1)"
   ]
  },
  {
   "cell_type": "code",
   "execution_count": 11,
   "id": "5ab0c1f1-b5b2-4040-97b3-2ea3fe00f542",
   "metadata": {},
   "outputs": [
    {
     "data": {
      "text/plain": [
       "int"
      ]
     },
     "execution_count": 11,
     "metadata": {},
     "output_type": "execute_result"
    }
   ],
   "source": [
    "type (variable2)"
   ]
  },
  {
   "cell_type": "code",
   "execution_count": 12,
   "id": "97fa2ac4-8db4-4634-bff3-77e910e84f15",
   "metadata": {},
   "outputs": [
    {
     "data": {
      "text/plain": [
       "str"
      ]
     },
     "execution_count": 12,
     "metadata": {},
     "output_type": "execute_result"
    }
   ],
   "source": [
    "type (variable3)"
   ]
  },
  {
   "cell_type": "code",
   "execution_count": 13,
   "id": "07cecf59-85be-44b0-879e-3b7eba172d6f",
   "metadata": {},
   "outputs": [],
   "source": [
    "variable2_decimal = float(variable2)"
   ]
  },
  {
   "cell_type": "code",
   "execution_count": 21,
   "id": "40b1f4b9-f26c-4fd9-b803-0571f4d6d879",
   "metadata": {},
   "outputs": [
    {
     "data": {
      "text/plain": [
       "float"
      ]
     },
     "execution_count": 21,
     "metadata": {},
     "output_type": "execute_result"
    }
   ],
   "source": [
    "type(variable2_decimal)"
   ]
  },
  {
   "cell_type": "code",
   "execution_count": 16,
   "id": "84cf764b-bb72-458c-abd8-faa2951eebc6",
   "metadata": {},
   "outputs": [
    {
     "name": "stdout",
     "output_type": "stream",
     "text": [
      "A 2\n"
     ]
    }
   ],
   "source": [
    "print(variable3, variable2)"
   ]
  },
  {
   "cell_type": "code",
   "execution_count": 19,
   "id": "94f3c6df-c52f-4699-bab9-9a23736d5d67",
   "metadata": {},
   "outputs": [
    {
     "name": "stdout",
     "output_type": "stream",
     "text": [
      "Esta es la letra a mayuscula A\n"
     ]
    }
   ],
   "source": [
    "print(\"Esta es la letra a mayuscula\", variable3)"
   ]
  },
  {
   "cell_type": "code",
   "execution_count": 20,
   "id": "24647e38-b13e-4733-a02a-a8d99355ac09",
   "metadata": {},
   "outputs": [
    {
     "name": "stdout",
     "output_type": "stream",
     "text": [
      "Este es el dos entero 2\n"
     ]
    }
   ],
   "source": [
    "print(\"Este es el dos entero\", variable2)"
   ]
  },
  {
   "cell_type": "code",
   "execution_count": 23,
   "id": "a3cb762b-bc9d-4168-b305-6f693ed9aa24",
   "metadata": {},
   "outputs": [
    {
     "name": "stdout",
     "output_type": "stream",
     "text": [
      "Este es el dos decimal 2.0\n"
     ]
    }
   ],
   "source": [
    "print(f\"Este es el dos decimal {variable2_decimal}\")"
   ]
  }
 ],
 "metadata": {
  "kernelspec": {
   "display_name": "Python 3 (ipykernel)",
   "language": "python",
   "name": "python3"
  },
  "language_info": {
   "codemirror_mode": {
    "name": "ipython",
    "version": 3
   },
   "file_extension": ".py",
   "mimetype": "text/x-python",
   "name": "python",
   "nbconvert_exporter": "python",
   "pygments_lexer": "ipython3",
   "version": "3.9.12"
  }
 },
 "nbformat": 4,
 "nbformat_minor": 5
}
