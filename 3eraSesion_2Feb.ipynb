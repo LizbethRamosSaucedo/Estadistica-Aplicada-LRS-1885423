{
 "cells": [
  {
   "cell_type": "markdown",
   "id": "82404945",
   "metadata": {},
   "source": [
    "# Estadistica aplicada\n",
    "## Lizbeth Ramos Saucedo 1885423\n",
    "### 3era sesion"
   ]
  },
  {
   "cell_type": "code",
   "execution_count": 4,
   "id": "94da748c",
   "metadata": {},
   "outputs": [],
   "source": [
    "import numpy as np \n",
    "import pandas as pd \n"
   ]
  },
  {
   "cell_type": "code",
   "execution_count": 37,
   "id": "f26d4ce3",
   "metadata": {},
   "outputs": [],
   "source": [
    "alumno1 =['Juan', 'Perez', 23]\n",
    "alumno2=['Raul', 'Lopez', 15]\n",
    "alumno3 = ['Jhon', 'Lara', 18 ]\n",
    "alumno4 =['Xime', 'Lira',22]\n",
    "alumno5 =['Ale', 'Lugo',26]"
   ]
  },
  {
   "cell_type": "code",
   "execution_count": 38,
   "id": "3cfa996a",
   "metadata": {},
   "outputs": [],
   "source": [
    "estadistica = [alumno1, alumno2, alumno3, alumno4, alumno5]"
   ]
  },
  {
   "cell_type": "code",
   "execution_count": 39,
   "id": "b2312c93",
   "metadata": {},
   "outputs": [],
   "source": [
    "estadistica=pd.DataFrame(estadistica,columns=['Nombre', 'apellido','edad'])"
   ]
  },
  {
   "cell_type": "code",
   "execution_count": null,
   "id": "18688ddb",
   "metadata": {},
   "outputs": [],
   "source": []
  },
  {
   "cell_type": "code",
   "execution_count": 40,
   "id": "9a291af5",
   "metadata": {},
   "outputs": [
    {
     "data": {
      "text/plain": [
       "Index(['Nombre', 'apellido', 'edad'], dtype='object')"
      ]
     },
     "execution_count": 40,
     "metadata": {},
     "output_type": "execute_result"
    }
   ],
   "source": [
    "estadistica.columns"
   ]
  },
  {
   "cell_type": "code",
   "execution_count": 41,
   "id": "6c077475",
   "metadata": {},
   "outputs": [
    {
     "data": {
      "text/plain": [
       "RangeIndex(start=0, stop=5, step=1)"
      ]
     },
     "execution_count": 41,
     "metadata": {},
     "output_type": "execute_result"
    }
   ],
   "source": [
    "estadistica.index"
   ]
  },
  {
   "cell_type": "code",
   "execution_count": 42,
   "id": "a42b658e",
   "metadata": {},
   "outputs": [
    {
     "data": {
      "text/plain": [
       "(5, 3)"
      ]
     },
     "execution_count": 42,
     "metadata": {},
     "output_type": "execute_result"
    }
   ],
   "source": [
    "estadistica.shape"
   ]
  },
  {
   "cell_type": "code",
   "execution_count": 43,
   "id": "21f7c232",
   "metadata": {},
   "outputs": [
    {
     "data": {
      "text/html": [
       "<div>\n",
       "<style scoped>\n",
       "    .dataframe tbody tr th:only-of-type {\n",
       "        vertical-align: middle;\n",
       "    }\n",
       "\n",
       "    .dataframe tbody tr th {\n",
       "        vertical-align: top;\n",
       "    }\n",
       "\n",
       "    .dataframe thead th {\n",
       "        text-align: right;\n",
       "    }\n",
       "</style>\n",
       "<table border=\"1\" class=\"dataframe\">\n",
       "  <thead>\n",
       "    <tr style=\"text-align: right;\">\n",
       "      <th></th>\n",
       "      <th>edad</th>\n",
       "    </tr>\n",
       "  </thead>\n",
       "  <tbody>\n",
       "    <tr>\n",
       "      <th>count</th>\n",
       "      <td>5.00000</td>\n",
       "    </tr>\n",
       "    <tr>\n",
       "      <th>mean</th>\n",
       "      <td>20.80000</td>\n",
       "    </tr>\n",
       "    <tr>\n",
       "      <th>std</th>\n",
       "      <td>4.32435</td>\n",
       "    </tr>\n",
       "    <tr>\n",
       "      <th>min</th>\n",
       "      <td>15.00000</td>\n",
       "    </tr>\n",
       "    <tr>\n",
       "      <th>25%</th>\n",
       "      <td>18.00000</td>\n",
       "    </tr>\n",
       "    <tr>\n",
       "      <th>50%</th>\n",
       "      <td>22.00000</td>\n",
       "    </tr>\n",
       "    <tr>\n",
       "      <th>75%</th>\n",
       "      <td>23.00000</td>\n",
       "    </tr>\n",
       "    <tr>\n",
       "      <th>max</th>\n",
       "      <td>26.00000</td>\n",
       "    </tr>\n",
       "  </tbody>\n",
       "</table>\n",
       "</div>"
      ],
      "text/plain": [
       "           edad\n",
       "count   5.00000\n",
       "mean   20.80000\n",
       "std     4.32435\n",
       "min    15.00000\n",
       "25%    18.00000\n",
       "50%    22.00000\n",
       "75%    23.00000\n",
       "max    26.00000"
      ]
     },
     "execution_count": 43,
     "metadata": {},
     "output_type": "execute_result"
    }
   ],
   "source": [
    "estadistica.describe()"
   ]
  },
  {
   "cell_type": "code",
   "execution_count": 44,
   "id": "f7c7cdab",
   "metadata": {},
   "outputs": [],
   "source": [
    "estadistica['Edad en dias'] = estadistica['edad']* 365"
   ]
  },
  {
   "cell_type": "code",
   "execution_count": 45,
   "id": "8939d025",
   "metadata": {},
   "outputs": [
    {
     "data": {
      "text/html": [
       "<div>\n",
       "<style scoped>\n",
       "    .dataframe tbody tr th:only-of-type {\n",
       "        vertical-align: middle;\n",
       "    }\n",
       "\n",
       "    .dataframe tbody tr th {\n",
       "        vertical-align: top;\n",
       "    }\n",
       "\n",
       "    .dataframe thead th {\n",
       "        text-align: right;\n",
       "    }\n",
       "</style>\n",
       "<table border=\"1\" class=\"dataframe\">\n",
       "  <thead>\n",
       "    <tr style=\"text-align: right;\">\n",
       "      <th></th>\n",
       "      <th>Nombre</th>\n",
       "      <th>apellido</th>\n",
       "      <th>edad</th>\n",
       "      <th>Edad en dias</th>\n",
       "    </tr>\n",
       "  </thead>\n",
       "  <tbody>\n",
       "    <tr>\n",
       "      <th>0</th>\n",
       "      <td>Juan</td>\n",
       "      <td>Perez</td>\n",
       "      <td>23</td>\n",
       "      <td>8395</td>\n",
       "    </tr>\n",
       "    <tr>\n",
       "      <th>1</th>\n",
       "      <td>Raul</td>\n",
       "      <td>Lopez</td>\n",
       "      <td>15</td>\n",
       "      <td>5475</td>\n",
       "    </tr>\n",
       "    <tr>\n",
       "      <th>2</th>\n",
       "      <td>Jhon</td>\n",
       "      <td>Lara</td>\n",
       "      <td>18</td>\n",
       "      <td>6570</td>\n",
       "    </tr>\n",
       "    <tr>\n",
       "      <th>3</th>\n",
       "      <td>Xime</td>\n",
       "      <td>Lira</td>\n",
       "      <td>22</td>\n",
       "      <td>8030</td>\n",
       "    </tr>\n",
       "    <tr>\n",
       "      <th>4</th>\n",
       "      <td>Ale</td>\n",
       "      <td>Lugo</td>\n",
       "      <td>26</td>\n",
       "      <td>9490</td>\n",
       "    </tr>\n",
       "  </tbody>\n",
       "</table>\n",
       "</div>"
      ],
      "text/plain": [
       "  Nombre apellido  edad  Edad en dias\n",
       "0   Juan    Perez    23          8395\n",
       "1   Raul    Lopez    15          5475\n",
       "2   Jhon     Lara    18          6570\n",
       "3   Xime     Lira    22          8030\n",
       "4    Ale     Lugo    26          9490"
      ]
     },
     "execution_count": 45,
     "metadata": {},
     "output_type": "execute_result"
    }
   ],
   "source": [
    "estadistica"
   ]
  },
  {
   "cell_type": "code",
   "execution_count": 46,
   "id": "bea13d96",
   "metadata": {},
   "outputs": [],
   "source": [
    "estadistica['origen']=['Apodaca', 'San Pedro', 'guadalupe', 'Salinas', 'Cadereyta']"
   ]
  },
  {
   "cell_type": "code",
   "execution_count": 47,
   "id": "62a7127f",
   "metadata": {},
   "outputs": [
    {
     "data": {
      "text/html": [
       "<div>\n",
       "<style scoped>\n",
       "    .dataframe tbody tr th:only-of-type {\n",
       "        vertical-align: middle;\n",
       "    }\n",
       "\n",
       "    .dataframe tbody tr th {\n",
       "        vertical-align: top;\n",
       "    }\n",
       "\n",
       "    .dataframe thead th {\n",
       "        text-align: right;\n",
       "    }\n",
       "</style>\n",
       "<table border=\"1\" class=\"dataframe\">\n",
       "  <thead>\n",
       "    <tr style=\"text-align: right;\">\n",
       "      <th></th>\n",
       "      <th>Nombre</th>\n",
       "      <th>apellido</th>\n",
       "      <th>edad</th>\n",
       "      <th>Edad en dias</th>\n",
       "      <th>origen</th>\n",
       "    </tr>\n",
       "  </thead>\n",
       "  <tbody>\n",
       "    <tr>\n",
       "      <th>0</th>\n",
       "      <td>Juan</td>\n",
       "      <td>Perez</td>\n",
       "      <td>23</td>\n",
       "      <td>8395</td>\n",
       "      <td>Apodaca</td>\n",
       "    </tr>\n",
       "    <tr>\n",
       "      <th>1</th>\n",
       "      <td>Raul</td>\n",
       "      <td>Lopez</td>\n",
       "      <td>15</td>\n",
       "      <td>5475</td>\n",
       "      <td>San Pedro</td>\n",
       "    </tr>\n",
       "    <tr>\n",
       "      <th>2</th>\n",
       "      <td>Jhon</td>\n",
       "      <td>Lara</td>\n",
       "      <td>18</td>\n",
       "      <td>6570</td>\n",
       "      <td>guadalupe</td>\n",
       "    </tr>\n",
       "    <tr>\n",
       "      <th>3</th>\n",
       "      <td>Xime</td>\n",
       "      <td>Lira</td>\n",
       "      <td>22</td>\n",
       "      <td>8030</td>\n",
       "      <td>Salinas</td>\n",
       "    </tr>\n",
       "    <tr>\n",
       "      <th>4</th>\n",
       "      <td>Ale</td>\n",
       "      <td>Lugo</td>\n",
       "      <td>26</td>\n",
       "      <td>9490</td>\n",
       "      <td>Cadereyta</td>\n",
       "    </tr>\n",
       "  </tbody>\n",
       "</table>\n",
       "</div>"
      ],
      "text/plain": [
       "  Nombre apellido  edad  Edad en dias     origen\n",
       "0   Juan    Perez    23          8395    Apodaca\n",
       "1   Raul    Lopez    15          5475  San Pedro\n",
       "2   Jhon     Lara    18          6570  guadalupe\n",
       "3   Xime     Lira    22          8030    Salinas\n",
       "4    Ale     Lugo    26          9490  Cadereyta"
      ]
     },
     "execution_count": 47,
     "metadata": {},
     "output_type": "execute_result"
    }
   ],
   "source": [
    "estadistica"
   ]
  },
  {
   "cell_type": "code",
   "execution_count": 48,
   "id": "5e5462f8",
   "metadata": {},
   "outputs": [
    {
     "data": {
      "text/plain": [
       "20.8"
      ]
     },
     "execution_count": 48,
     "metadata": {},
     "output_type": "execute_result"
    }
   ],
   "source": [
    "estadistica['edad'].mean()"
   ]
  },
  {
   "cell_type": "code",
   "execution_count": 49,
   "id": "51178942",
   "metadata": {},
   "outputs": [
    {
     "data": {
      "text/plain": [
       "4.32"
      ]
     },
     "execution_count": 49,
     "metadata": {},
     "output_type": "execute_result"
    }
   ],
   "source": [
    "round(estadistica['edad'].std(ddof=1),2)"
   ]
  },
  {
   "cell_type": "code",
   "execution_count": 50,
   "id": "3ffcc8d6",
   "metadata": {},
   "outputs": [
    {
     "data": {
      "text/plain": [
       "Nombre          object\n",
       "apellido        object\n",
       "edad             int64\n",
       "Edad en dias     int64\n",
       "origen          object\n",
       "dtype: object"
      ]
     },
     "execution_count": 50,
     "metadata": {},
     "output_type": "execute_result"
    }
   ],
   "source": [
    "estadistica.dtypes"
   ]
  },
  {
   "cell_type": "code",
   "execution_count": 51,
   "id": "f5c942d3",
   "metadata": {},
   "outputs": [
    {
     "data": {
      "text/plain": [
       "Nombre          5\n",
       "apellido        5\n",
       "edad            5\n",
       "Edad en dias    5\n",
       "origen          5\n",
       "dtype: int64"
      ]
     },
     "execution_count": 51,
     "metadata": {},
     "output_type": "execute_result"
    }
   ],
   "source": [
    "estadistica.count()   #numero de datos que tenemos de cada variable "
   ]
  },
  {
   "cell_type": "code",
   "execution_count": 52,
   "id": "287a1b8a",
   "metadata": {},
   "outputs": [
    {
     "data": {
      "text/html": [
       "<div>\n",
       "<style scoped>\n",
       "    .dataframe tbody tr th:only-of-type {\n",
       "        vertical-align: middle;\n",
       "    }\n",
       "\n",
       "    .dataframe tbody tr th {\n",
       "        vertical-align: top;\n",
       "    }\n",
       "\n",
       "    .dataframe thead th {\n",
       "        text-align: right;\n",
       "    }\n",
       "</style>\n",
       "<table border=\"1\" class=\"dataframe\">\n",
       "  <thead>\n",
       "    <tr style=\"text-align: right;\">\n",
       "      <th></th>\n",
       "      <th>Nombre</th>\n",
       "      <th>apellido</th>\n",
       "      <th>edad</th>\n",
       "      <th>Edad en dias</th>\n",
       "      <th>origen</th>\n",
       "    </tr>\n",
       "  </thead>\n",
       "  <tbody>\n",
       "    <tr>\n",
       "      <th>2</th>\n",
       "      <td>Jhon</td>\n",
       "      <td>Lara</td>\n",
       "      <td>18</td>\n",
       "      <td>6570</td>\n",
       "      <td>guadalupe</td>\n",
       "    </tr>\n",
       "    <tr>\n",
       "      <th>3</th>\n",
       "      <td>Xime</td>\n",
       "      <td>Lira</td>\n",
       "      <td>22</td>\n",
       "      <td>8030</td>\n",
       "      <td>Salinas</td>\n",
       "    </tr>\n",
       "    <tr>\n",
       "      <th>1</th>\n",
       "      <td>Raul</td>\n",
       "      <td>Lopez</td>\n",
       "      <td>15</td>\n",
       "      <td>5475</td>\n",
       "      <td>San Pedro</td>\n",
       "    </tr>\n",
       "    <tr>\n",
       "      <th>4</th>\n",
       "      <td>Ale</td>\n",
       "      <td>Lugo</td>\n",
       "      <td>26</td>\n",
       "      <td>9490</td>\n",
       "      <td>Cadereyta</td>\n",
       "    </tr>\n",
       "    <tr>\n",
       "      <th>0</th>\n",
       "      <td>Juan</td>\n",
       "      <td>Perez</td>\n",
       "      <td>23</td>\n",
       "      <td>8395</td>\n",
       "      <td>Apodaca</td>\n",
       "    </tr>\n",
       "  </tbody>\n",
       "</table>\n",
       "</div>"
      ],
      "text/plain": [
       "  Nombre apellido  edad  Edad en dias     origen\n",
       "2   Jhon     Lara    18          6570  guadalupe\n",
       "3   Xime     Lira    22          8030    Salinas\n",
       "1   Raul    Lopez    15          5475  San Pedro\n",
       "4    Ale     Lugo    26          9490  Cadereyta\n",
       "0   Juan    Perez    23          8395    Apodaca"
      ]
     },
     "execution_count": 52,
     "metadata": {},
     "output_type": "execute_result"
    }
   ],
   "source": [
    "estadistica.sort_values(['apellido', 'Nombre'], ascending= [True, True] )"
   ]
  },
  {
   "cell_type": "code",
   "execution_count": null,
   "id": "ce60c361",
   "metadata": {},
   "outputs": [],
   "source": []
  },
  {
   "cell_type": "code",
   "execution_count": null,
   "id": "f1b7141c",
   "metadata": {},
   "outputs": [],
   "source": []
  },
  {
   "cell_type": "code",
   "execution_count": null,
   "id": "78bd66bb",
   "metadata": {},
   "outputs": [],
   "source": []
  }
 ],
 "metadata": {
  "kernelspec": {
   "display_name": "Python 3 (ipykernel)",
   "language": "python",
   "name": "python3"
  },
  "language_info": {
   "codemirror_mode": {
    "name": "ipython",
    "version": 3
   },
   "file_extension": ".py",
   "mimetype": "text/x-python",
   "name": "python",
   "nbconvert_exporter": "python",
   "pygments_lexer": "ipython3",
   "version": "3.9.12"
  }
 },
 "nbformat": 4,
 "nbformat_minor": 5
}
